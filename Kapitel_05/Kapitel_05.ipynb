{
 "cells": [
  {
   "cell_type": "markdown",
   "metadata": {},
   "source": [
    "# Kapitel 5"
   ]
  },
  {
   "cell_type": "markdown",
   "metadata": {},
   "source": [
    "> ### <span style=\"color:red\">ACHTUNG:</span> Bitte zum Starten im Menü `Cell • Run All` ausführen."
   ]
  },
  {
   "cell_type": "markdown",
   "metadata": {},
   "source": [
    "## Deaktivieren der Warnungen"
   ]
  },
  {
   "cell_type": "code",
   "execution_count": 1,
   "metadata": {},
   "outputs": [],
   "source": [
    "import warnings\n",
    "warnings.filterwarnings('ignore')"
   ]
  },
  {
   "cell_type": "markdown",
   "metadata": {},
   "source": [
    "## Multi Layer Perceptron"
   ]
  },
  {
   "cell_type": "markdown",
   "metadata": {},
   "source": [
    "#### Listing 5.2"
   ]
  },
  {
   "cell_type": "code",
   "execution_count": 2,
   "metadata": {},
   "outputs": [
    {
     "ename": "NameError",
     "evalue": "name 'np' is not defined",
     "output_type": "error",
     "traceback": [
      "\u001b[0;31m---------------------------------------------------------------------------\u001b[0m",
      "\u001b[0;31mNameError\u001b[0m                                 Traceback (most recent call last)",
      "\u001b[0;32m<ipython-input-2-fa24e7526ad9>\u001b[0m in \u001b[0;36m<module>\u001b[0;34m\u001b[0m\n\u001b[1;32m      2\u001b[0m     \u001b[0;32mreturn\u001b[0m \u001b[0mnp\u001b[0m\u001b[0;34m.\u001b[0m\u001b[0mmaximum\u001b[0m\u001b[0;34m(\u001b[0m\u001b[0mx\u001b[0m\u001b[0;34m,\u001b[0m\u001b[0;36m0\u001b[0m\u001b[0;34m)\u001b[0m\u001b[0;34m\u001b[0m\u001b[0;34m\u001b[0m\u001b[0m\n\u001b[1;32m      3\u001b[0m \u001b[0;31m# Test\u001b[0m\u001b[0;34m\u001b[0m\u001b[0;34m\u001b[0m\u001b[0;34m\u001b[0m\u001b[0m\n\u001b[0;32m----> 4\u001b[0;31m \u001b[0mfunc_relu\u001b[0m\u001b[0;34m(\u001b[0m\u001b[0;34m-\u001b[0m\u001b[0;36m1\u001b[0m\u001b[0;34m)\u001b[0m\u001b[0;34m\u001b[0m\u001b[0;34m\u001b[0m\u001b[0m\n\u001b[0m",
      "\u001b[0;32m<ipython-input-2-fa24e7526ad9>\u001b[0m in \u001b[0;36mfunc_relu\u001b[0;34m(x)\u001b[0m\n\u001b[1;32m      1\u001b[0m \u001b[0;32mdef\u001b[0m \u001b[0mfunc_relu\u001b[0m\u001b[0;34m(\u001b[0m\u001b[0mx\u001b[0m\u001b[0;34m)\u001b[0m\u001b[0;34m:\u001b[0m\u001b[0;34m\u001b[0m\u001b[0;34m\u001b[0m\u001b[0m\n\u001b[0;32m----> 2\u001b[0;31m     \u001b[0;32mreturn\u001b[0m \u001b[0mnp\u001b[0m\u001b[0;34m.\u001b[0m\u001b[0mmaximum\u001b[0m\u001b[0;34m(\u001b[0m\u001b[0mx\u001b[0m\u001b[0;34m,\u001b[0m\u001b[0;36m0\u001b[0m\u001b[0;34m)\u001b[0m\u001b[0;34m\u001b[0m\u001b[0;34m\u001b[0m\u001b[0m\n\u001b[0m\u001b[1;32m      3\u001b[0m \u001b[0;31m# Test\u001b[0m\u001b[0;34m\u001b[0m\u001b[0;34m\u001b[0m\u001b[0;34m\u001b[0m\u001b[0m\n\u001b[1;32m      4\u001b[0m \u001b[0mfunc_relu\u001b[0m\u001b[0;34m(\u001b[0m\u001b[0;34m-\u001b[0m\u001b[0;36m1\u001b[0m\u001b[0;34m)\u001b[0m\u001b[0;34m\u001b[0m\u001b[0;34m\u001b[0m\u001b[0m\n",
      "\u001b[0;31mNameError\u001b[0m: name 'np' is not defined"
     ]
    }
   ],
   "source": [
    "# Für die mathematischen Operationen\n",
    "import numpy as np\n",
    "\n",
    "def func_relu(x):  \n",
    "    return np.maximum(x,0)\n",
    "# Test \n",
    "func_relu(-1)"
   ]
  },
  {
   "cell_type": "markdown",
   "metadata": {},
   "source": [
    "#### Listing 5.1, Listing 5.3, Listing 5.4, Listing 5.5, Listing 5.6, Listing 5.7"
   ]
  },
  {
   "cell_type": "code",
   "execution_count": null,
   "metadata": {},
   "outputs": [],
   "source": [
    "# Für die mathematischen Operationen\n",
    "import numpy as np\n",
    "\n",
    "# Die identische Funktion\n",
    "def func_id(x):\n",
    "    return x\n",
    "\n",
    "# Eine weltberühmte Aktivierungsfunktion: Die Sigmoide\n",
    "def func_sigmoid(x):\n",
    "    # Wichtig: Nicht math.exp sondern np.exp wegen array \n",
    "    # Operationen verwenden\n",
    "    return 1.0 / (1.0 + np.exp(-x))\n",
    "    \n",
    "# Die Netzwerkklasse definieren\n",
    "class MLP(object):\n",
    "    \"\"\" Das mehrschichtige Perceptron, MLP \"\"\"    \n",
    "    def __init__(self, \n",
    "                 n_input_neurons=2,n_hidden_neurons=2,n_output_neurons=1,\n",
    "                 weights=None,\n",
    "                 *args, **kwargs):\n",
    "        \"\"\" Initialisierung des Netzwerkes.\n",
    "        Wir verwenden eine fixe I-H-O Struktur für den Anfang: \n",
    "        (Input-Hidden-Output)\n",
    "        Die Anzahl der Neuronen ist flexibel\n",
    "        Weiters ist es möglich das Netzwerk mit Gewichten zu initialisieren:\n",
    "        [W_IH,W_HO]\n",
    "        \"\"\"\n",
    "        # Aktivierungs- und Output-Funktion \n",
    "        self.f_akt = func_sigmoid #func_relu\n",
    "        self.g_out = func_id\n",
    "        # Anzahl der Neuronen pro Layer\n",
    "        self.n_input_neurons=n_input_neurons\n",
    "        self.n_hidden_neurons=n_hidden_neurons\n",
    "        self.n_output_neurons=n_output_neurons\n",
    "        # Gewichtsinitialisierung\n",
    "        self.weights = weights\n",
    "        W_IH=[]\n",
    "        W_HO=[]\n",
    "\n",
    "        # Hier werden alle Daten zur Netzberechnung abgelegt\n",
    "        self.network=[]\n",
    "        # Input Layer + Bias Neuron: Spalten = o_i\n",
    "        self.inputLayer = np.zeros((self.n_input_neurons+1,1))\n",
    "        # Bias Neuron Output ist immer +1\n",
    "        self.inputLayer[0] = 1.0 \n",
    "        # Den Input Layer zum Netwerk hinzufügen\n",
    "        self.network.append(self.inputLayer)\n",
    "        # Weights von Input Layer zum Hidden Layer W_IH \n",
    "        # Neuron: Zeile x Spalten: Zeilen = # Hidden, Spalten = # Input\n",
    "        # Nur Initialisieren, falls tatsächlich Gewichte vorhanden. \n",
    "        # Einfache Existenz Prüfung\n",
    "        if weights:\n",
    "            W_IH = self.weights[0]    \n",
    "        else:\n",
    "            W_IH = np.zeros((self.n_hidden_neurons+1,self.n_input_neurons+1))\n",
    "        self.network.append(W_IH)\n",
    "        # Hidden Layer + Bias Neuron: Spalten = net_i,a_i,o_i\n",
    "        self.hiddenLayer = np.zeros((self.n_hidden_neurons+1,3))\n",
    "        # Bias Neuron Output ist immer +1\n",
    "        self.hiddenLayer[0] = 1.0 \n",
    "        # Den Hidden Layer zum Netwerk hinzufügen\n",
    "        self.network.append(self.hiddenLayer)\n",
    "        # Weights von Hidden Layer zum Output Layer W_HO \n",
    "        # Neuron: Zeile x Spalten: Zeilen = # Output, Spalten = # Hidden\n",
    "        if weights:\n",
    "            W_HO = self.weights[1]\n",
    "        else:\n",
    "            W_HO = np.zeros((self.n_output_neurons+1,self.n_hidden_neurons+1))\n",
    "        self.network.append(W_HO)\n",
    "        # Output Layer + Bias Neuron: Spalten = net_i,a_i,o_i \n",
    "        self.outputLayer = np.zeros((self.n_output_neurons+1,3))\n",
    "        # Bias Neuron Output = 0, da nicht relevant. \n",
    "        # Nur wegen einheitlicher Indizierung vorhanden\n",
    "        self.outputLayer[0] = 0.0 \n",
    "        # Den Output Layer zum Netwerk hinzufügen\n",
    "        self.network.append(self.outputLayer)\n",
    "        \n",
    "    def print(self):\n",
    "        print('Multi Layer Perceptron - Netzwerk Architektur')\n",
    "        # Insgesamt 7 Stellen, mit drei Nachkommastellen ausgeben\n",
    "        np.set_printoptions(\n",
    "            formatter={'float': lambda x: \"{0:7.3f}\".format(x)})\n",
    "        for nn_part in self.network:\n",
    "            print(nn_part)\n",
    "            print('----------v----------')  \n",
    "\n",
    "    def predict(self,x):\n",
    "        \"\"\" Für Eingabe x wird Ausgabe y_hat berechnet.        \n",
    "        Für den Vektor x wird eine Vorhersage berechnet und \n",
    "        die Matrizenwerte der Layer (nicht Gewichte) werden angepasst        \n",
    "        \"\"\"\n",
    "        # Input Layer\n",
    "        # Die Input-Werte setzen: Alle Zeilen, Spalte 0\n",
    "        self.network[0][:,0] = x\n",
    "        # Hidden Layer\n",
    "        # Start von Zeile 1 wegen Bias Neuron auf Index Position 0\n",
    "        # net_i\n",
    "        self.network[2][1:,0] = np.dot(self.network[1][1:,:],\n",
    "                                       self.network[0][:,0])\n",
    "        # a_i\n",
    "        self.network[2][1:,1] = self.f_akt(self.network[2][1:,0]) \n",
    "        # o_i\n",
    "        self.network[2][1:,2] = self.g_out(self.network[2][1:,1]) \n",
    "        # Output Layer\n",
    "        # Start von Zeile 1 wegen Bias Neuron auf 0\n",
    "        # net_i\n",
    "        self.network[4][1:,0] = np.dot(self.network[3][1:,:],\n",
    "                                       self.network[2][:,2])\n",
    "        # a_i\n",
    "        self.network[4][1:,1] = self.f_akt(self.network[4][1:,0]) \n",
    "        # o_i\n",
    "        self.network[4][1:,2] = self.g_out(self.network[4][1:,1]) \n",
    "        # Rückgabe Output Vektor\n",
    "        return self.network[4][1:,2]\n",
    "\n",
    "def main():\n",
    "    # Initialisierung der Gewichte\n",
    "    W_IH = np.matrix([[0.0,0.0,0.0],[-10,20.0,20.0],[30,-20.0,-20.0]])\n",
    "    W_HO = np.matrix([[0.0,0.0,0.0],[-30,20.0,20.0]])\n",
    "    weights=[]\n",
    "    weights.append(W_IH)\n",
    "    weights.append(W_HO)\n",
    "    nn = MLP(weights=weights)\n",
    "    # Netzwerk ausgeben\n",
    "    nn.print()\n",
    "    # Test\n",
    "    X=np.array([[1.0,1.0,1.0],[1.0,0,1.0],[1.0,1.0,0],[1.0,0,0]])\n",
    "    y=np.array([0,1.0,1.0,0])\n",
    "    print('Predict:')\n",
    "    for idx,x in enumerate(X):\n",
    "        print('{} {} -> {}'.format(x,y[idx],nn.predict(x)))\n",
    "\n",
    "# Hauptprogramm \n",
    "main() "
   ]
  },
  {
   "cell_type": "code",
   "execution_count": null,
   "metadata": {},
   "outputs": [],
   "source": []
  }
 ],
 "metadata": {
  "kernelspec": {
   "display_name": "Python 3",
   "language": "python",
   "name": "python3"
  },
  "language_info": {
   "codemirror_mode": {
    "name": "ipython",
    "version": 3
   },
   "file_extension": ".py",
   "mimetype": "text/x-python",
   "name": "python",
   "nbconvert_exporter": "python",
   "pygments_lexer": "ipython3",
   "version": "3.6.8"
  }
 },
 "nbformat": 4,
 "nbformat_minor": 2
}
