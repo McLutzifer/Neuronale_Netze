{
 "cells": [
  {
   "cell_type": "markdown",
   "metadata": {},
   "source": [
    "# Anhang A"
   ]
  },
  {
   "cell_type": "markdown",
   "metadata": {},
   "source": [
    "> ### <span style=\"color:red\">ACHTUNG:</span> Bitte zum Starten im Menü `Cell->Run All` ausführen."
   ]
  },
  {
   "cell_type": "markdown",
   "metadata": {},
   "source": [
    "## Deaktivieren der Warnungen"
   ]
  },
  {
   "cell_type": "code",
   "execution_count": null,
   "metadata": {},
   "outputs": [],
   "source": [
    "import warnings\n",
    "warnings.filterwarnings('ignore')"
   ]
  },
  {
   "cell_type": "markdown",
   "metadata": {},
   "source": [
    "### Installation notwendiger Bibliotheken\n",
    "Falls die Bibliotheken noch nicht im entsprechenden Environment installiert wurden, kann das mit einem der beiden nachfolgenden Code-Zellen nachgeholt werden."
   ]
  },
  {
   "cell_type": "markdown",
   "metadata": {},
   "source": [
    "### ... mit conda"
   ]
  },
  {
   "cell_type": "code",
   "execution_count": null,
   "metadata": {},
   "outputs": [],
   "source": [
    "# Installiere die notwendigen Bibliotheken mit conda\n",
    "import sys\n",
    "!conda update --yes -n base -c  defaults conda\n",
    "!conda install --yes --prefix {sys.prefix} numpy"
   ]
  },
  {
   "cell_type": "markdown",
   "metadata": {},
   "source": [
    "## ODER"
   ]
  },
  {
   "cell_type": "markdown",
   "metadata": {},
   "source": [
    "### ... mit pip"
   ]
  },
  {
   "cell_type": "code",
   "execution_count": null,
   "metadata": {},
   "outputs": [],
   "source": [
    "# Installiere die notwendigen Bibliotheken mit pip\n",
    "import sys\n",
    "!{sys.executable} -m pip install numpy"
   ]
  },
  {
   "cell_type": "markdown",
   "metadata": {},
   "source": [
    "#### Listing A.1"
   ]
  },
  {
   "cell_type": "code",
   "execution_count": null,
   "metadata": {},
   "outputs": [],
   "source": [
    "pot = 12345\n",
    "pot"
   ]
  },
  {
   "cell_type": "code",
   "execution_count": null,
   "metadata": {},
   "outputs": [],
   "source": [
    "pot = 'Das ist ein Text'\n",
    "pot"
   ]
  },
  {
   "cell_type": "markdown",
   "metadata": {},
   "source": [
    "#### Listing A.2"
   ]
  },
  {
   "cell_type": "code",
   "execution_count": 1,
   "metadata": {},
   "outputs": [],
   "source": [
    "# Das ist ein erster Kommentar im Programmcode\n",
    "\n",
    "a = 3 + 5 # ergibt 8 (Kommentar nach Anweisung möglich!)\n",
    "b = 5 - 8\n",
    "\n",
    "# Die Variablen können auch auf der rechten Seite eingesetzt werden\n",
    "# Zum Rechnen wird dann einfach die \"Füllung\" der Variable verwendet\n",
    "c = (1 + 4) * a # sollte 40 ergeben\n",
    "\n",
    "# ... und nicht gar so bekannte Operatoren\n",
    "# abgerundete Division\n",
    "d = 7 // 4  # ergibt 1\n",
    "e = -7 // 5\n",
    "\n",
    "# Modulo-Operation: Ausgabe des Rests einer Division\n",
    "f = 11 % 3  # ergibt 2"
   ]
  },
  {
   "cell_type": "markdown",
   "metadata": {},
   "source": [
    "#### Listing A.3"
   ]
  },
  {
   "cell_type": "code",
   "execution_count": 2,
   "metadata": {},
   "outputs": [
    {
     "name": "stdout",
     "output_type": "stream",
     "text": [
      "a = 8\n",
      "b = -3\n",
      "c = 40\n",
      "d = 1\n",
      "e = -2\n",
      "f = 2\n"
     ]
    }
   ],
   "source": [
    "# und hier erfolgt die Ausgabe unter Verwendung der Funktion print()\n",
    "print(\"a =\", a)\n",
    "print(\"b =\", b)\n",
    "print(\"c =\", c)\n",
    "print(\"d =\", d)\n",
    "print(\"e =\", e)\n",
    "print(\"f =\", f)\n"
   ]
  },
  {
   "cell_type": "markdown",
   "metadata": {},
   "source": [
    "#### Listing A.4"
   ]
  },
  {
   "cell_type": "code",
   "execution_count": null,
   "metadata": {},
   "outputs": [],
   "source": [
    "# Boolsche Werte\n",
    "True   # bedeutet ja, 1, on ... True\n",
    "False  # bedeutet nein, 0, off ... False\n",
    "\n",
    "# man kann die boolschen Werte auch negieren\n",
    "not True  # entspricht also False\n",
    "not False # entsprich also True\n",
    "\n",
    "# Sehr wichtig sind boolsche Operatoren wie\n",
    "# Abfrage auf Gleichheit  ==\n",
    "0 == 1  # ergibt False\n",
    "2 == 2  # ergibt True\n",
    "\n",
    "# Abfrage auf Ungleichheit != \n",
    "0 != 1  # ergibt True\n",
    "2 != 2  # ergibt False\n",
    "\n",
    "# noch mehr Vergleiche kleiner als <, grösser als >, \n",
    "# kleiner gleich <= , größer gleich >=\n",
    "1 < 100  # ergibt True\n",
    "20 < 10  # ergibt False\n",
    "3 <= 8   # ergibt True\n",
    "11 >= 11 # ergibt True\n"
   ]
  },
  {
   "cell_type": "markdown",
   "metadata": {},
   "source": [
    "#### Listing A.5"
   ]
  },
  {
   "cell_type": "code",
   "execution_count": 3,
   "metadata": {},
   "outputs": [
    {
     "name": "stdout",
     "output_type": "stream",
     "text": [
      "Der Hund heisst Bello.\n"
     ]
    }
   ],
   "source": [
    "# Strings werden entweder mit\n",
    "# einfachen ' Anführungszeichen oder\n",
    "# doppelten \" Anführungszeichen\n",
    "# umgeben\n",
    "myText = \"Das ist mein erster Python-string\"\n",
    "# oder\n",
    "myText = 'Das ist mein zweiter Python-string'\n",
    "\n",
    "# Strings können sogar \"addiert\", genauer gesagt zusammengefügt werden\n",
    "addText = \"Teil1 und \" + \"Teil2\"\n",
    "\n",
    "# Es gibt auch eine Funktion, die die Anzahl der Zeichen eines Strings\n",
    "# errechnet, das wird auch als Länge eines Strings bezeichnet\n",
    "lenText = len(\"dieser Text hat wie viele Zeichen?\")\n",
    "\n",
    "# Zur Zusammensetzung von Strings gibt es eine\n",
    "# interressante Funktion: .format()\n",
    "formatText = \"Der {} heisst {}.\".format(\"Hund\",\"Bello\")\n",
    "print(formatText)\n",
    "\n",
    "\n",
    "# Ein String ist eine Folge von Zeichen\n",
    "# Python erlaubt es, mit eckigen Klammern [] auf einzelne Zeichen zuzugreifen\n",
    "theABC = 'abcdefghijklmnopqrstuvwxyz'\n",
    "firstLetter = theABC[0] # ACHTUNG: die Nummerierung beginnt bei 0\n",
    "lastLetter = theABC[25] # deshalb hat das 26. Zeichen den Index 25\n"
   ]
  },
  {
   "cell_type": "markdown",
   "metadata": {},
   "source": [
    "#### Listing A.6"
   ]
  },
  {
   "cell_type": "code",
   "execution_count": null,
   "metadata": {},
   "outputs": [],
   "source": [
    "# Slicing bei Strings bedeutet das Herausschneiden von Zeichenfolgen\n",
    "theSentence = \"Das ist ein erster Satz\"\n",
    "theSentence[0:3]   # liefert die Zeichen von Position 0 bis 2\n",
    "# Ausgabe: 'Das'"
   ]
  },
  {
   "cell_type": "code",
   "execution_count": null,
   "metadata": {},
   "outputs": [],
   "source": [
    "# … und noch ein paar Beispiele des Slicings\n",
    "theSentence[4:7]\n",
    "# Ausgabe: 'ist'"
   ]
  },
  {
   "cell_type": "code",
   "execution_count": null,
   "metadata": {},
   "outputs": [],
   "source": [
    "# man kann auch vom Anfang bis zu einer bestimmten Position schneiden\n",
    "theSentence[:7]\n",
    "# Ausgabe: 'Das ist'"
   ]
  },
  {
   "cell_type": "code",
   "execution_count": null,
   "metadata": {},
   "outputs": [],
   "source": [
    "# oder bis zum Ende einer Folge schneiden\n",
    "theSentence[8:]\n",
    "# Ausgabe: 'ein erster Satz'"
   ]
  },
  {
   "cell_type": "code",
   "execution_count": null,
   "metadata": {},
   "outputs": [],
   "source": [
    "# und das passiert, wenn eine Position gewählt wird, die es nicht gibt\n",
    "theSentence [99]"
   ]
  },
  {
   "cell_type": "markdown",
   "metadata": {},
   "source": [
    "#### Listing A.7"
   ]
  },
  {
   "cell_type": "code",
   "execution_count": null,
   "metadata": {},
   "outputs": [],
   "source": [
    "# Beispiel für die if-Anweisung\n",
    "age = 5\n",
    "\n",
    "if age < 4:\n",
    "    print(\"Der Wert der Variable age ist kleiner als 4!\")\n",
    "elif age==4:\n",
    "    print(\"Der Wert der Variable age ist gleich 4!\")\n",
    "else:\n",
    "    print(\"Der Wert der Variable age ist größer 4!\")\n"
   ]
  },
  {
   "cell_type": "markdown",
   "metadata": {},
   "source": [
    "#### Listing A.8"
   ]
  },
  {
   "cell_type": "code",
   "execution_count": null,
   "metadata": {},
   "outputs": [],
   "source": [
    "# eine einfache for-Schleife\n",
    "myValues = [0,1,2,3]  # eine Folge/Sequenz von Objekten\n",
    "for x in myValues:\n",
    "   print(\"Zahl: {} und Quadratzahl: {}\".format(x,x*x))"
   ]
  },
  {
   "cell_type": "code",
   "execution_count": null,
   "metadata": {},
   "outputs": [],
   "source": [
    "# myValues lässt sich auch mit der Funktion range() erzeugen\n",
    "myValues = range(0,4) # wie beim Slicing: inklusive 0: exklusive 4\n",
    "for x in myValues:\n",
    "   print(\"Zahl: {} und Quadratzahl: {}\".format(x,x*x))\n",
    "# Ausgabe:"
   ]
  },
  {
   "cell_type": "code",
   "execution_count": 4,
   "metadata": {},
   "outputs": [
    {
     "name": "stdout",
     "output_type": "stream",
     "text": [
      "0 , 2 , 4 , 6 , 8 , "
     ]
    }
   ],
   "source": [
    "# range() ist noch mächtiger, man kann auch ein Intervall/Schrittgrösse angeben\n",
    "# range(start,stop,intervall)\n",
    "# print() fügt am Ende automatisch einen Zeilenumbruch hinzu\n",
    "# mit end='' kann man das verhindern\n",
    "# es muss auch nicht immer x sein – es kann ein beliebiger Variablenname\n",
    "# verwendet werden\n",
    "myValues = range(0, 10, 2)\n",
    "for geradeZahl in myValues:\n",
    "    print(geradeZahl, \", \", end='')"
   ]
  },
  {
   "cell_type": "code",
   "execution_count": null,
   "metadata": {},
   "outputs": [],
   "source": [
    "# oder rückwärts, und diesmal ohne den Umweg über die Variable myValues\n",
    "for y in range(500,0,-100):\n",
    "    print(y,\", \", end='')"
   ]
  },
  {
   "cell_type": "markdown",
   "metadata": {},
   "source": [
    "#### Listing A.9"
   ]
  },
  {
   "cell_type": "code",
   "execution_count": 5,
   "metadata": {},
   "outputs": [
    {
     "name": "stdout",
     "output_type": "stream",
     "text": [
      "1 .  Ada\n",
      "2 .  C\n",
      "3 .  C#\n",
      "4 .  Pascal\n",
      "5 .  Modula\n",
      "6 .  PYTHON\n"
     ]
    }
   ],
   "source": [
    "# das geht natürlich auch mit anderen Objekten, hier eine Folge von Strings\n",
    "# mit einem Block von zwei Anweisungen\n",
    "programLanguages = ['Ada','C','C#','Pascal','Modula','PYTHON']\n",
    "row = 0\n",
    "for lang in programLanguages:\n",
    "    row = row + 1\n",
    "    print(row,\". \",lang)"
   ]
  },
  {
   "cell_type": "code",
   "execution_count": null,
   "metadata": {},
   "outputs": [],
   "source": [
    "# sogar mit einer Folge von gemischten Objekttypen funktioniert das\n",
    "# die Funktion type() gibt den Datentyp aus\n",
    "mixedObjects = [\"Text\", 1, 4.2, \"noch ein Text\"]\n",
    "for obj in mixedObjects:\n",
    "    print(\"Wert: {}, Datentyp: {}\".format(obj, type(obj)))"
   ]
  },
  {
   "cell_type": "markdown",
   "metadata": {},
   "source": [
    "#### Listing A.10"
   ]
  },
  {
   "cell_type": "code",
   "execution_count": null,
   "metadata": {},
   "outputs": [],
   "source": [
    "# ein einfaches Beispiel\n",
    "nrLoops = 10\n",
    "i = 1\n",
    "sum = 0\n",
    "\n",
    "while i <= nrLoops:\n",
    "# diese Bedingung ist erfüllt, solange i kleiner oder gleich 10 ist,\n",
    "# liefert also den Wert True, und so lange wird auch der Anweisungsblock\n",
    "# mit den beiden Anweisungen durchgeführt\n",
    "    sum = sum + i\n",
    "    i = i + 1\n",
    "    \n",
    "print(\"Die Summe ist:\", sum)"
   ]
  },
  {
   "cell_type": "code",
   "execution_count": null,
   "metadata": {},
   "outputs": [],
   "source": [
    "# man kann die Abbruchbedingung auch an das Ende der Schleife setzen\n",
    "# mit dem Befehl break \"springt\" man aus einer while-Schleife\n",
    "nrLoops = 15\n",
    "i = 1\n",
    "product = 1\n",
    "\n",
    "while True:\n",
    "   product = product * i\n",
    "   i = i + 1\n",
    "   if i > nrLoops:\n",
    "      break\n",
    "print(\"Das Produkt ist:\",product)"
   ]
  },
  {
   "cell_type": "markdown",
   "metadata": {},
   "source": [
    "#### Listing A.11"
   ]
  },
  {
   "cell_type": "code",
   "execution_count": null,
   "metadata": {},
   "outputs": [],
   "source": [
    "# Funktionsdefinitionen werden mit dem Schlüsselwort def eingeleitet\n",
    "# Funktionen können, aber müssen keine Argumente enthalten\n",
    "# die Anweisungen, die eine Funktion ausführen soll, werden eingerückt\n",
    "def greetTheWorld():\n",
    "   print(\"Hallo Welt!\")\n",
    "\n",
    "# der Aufruf der Funktion erfolgt wie bekannt\n",
    "greetTheWorld()"
   ]
  },
  {
   "cell_type": "code",
   "execution_count": null,
   "metadata": {},
   "outputs": [],
   "source": [
    "# ... nun grüssen wir jemanden mit Namen, \n",
    "# das heisst, wir übergeben ein Argument name\n",
    "def greetings(name):\n",
    "   print(\"Hallo {}!\".format(name))\n",
    "\n",
    "greetings(\"Brunhilde\")\n",
    "greetings(\"Otto\")"
   ]
  },
  {
   "cell_type": "code",
   "execution_count": null,
   "metadata": {},
   "outputs": [],
   "source": [
    "# wir können für das Argument name auch einen Standardwert vergeben\n",
    "# das nennt man auch Default-Wert\n",
    "def greetingsWithDefault(name=\"zusammen\"):\n",
    "   print(\"Hi {}!\".format(name))\n",
    "\n",
    "greetingsWithDefault(\"Janine\")\n",
    "greetingsWithDefault()"
   ]
  },
  {
   "cell_type": "code",
   "execution_count": null,
   "metadata": {},
   "outputs": [],
   "source": [
    "# jetzt eine Funktion mit Zahlen, die einen Wert zurückgibt\n",
    "def convertCelsius2Fahrenheit(temp_in_Celsius):\n",
    "   return (temp_in_Celsius *9 / 5) + 32\n",
    "\n",
    "# jetzt mischen wir eine for-Schleife mit dem Funktionsaufruf\n",
    "for temp in [0.0, 36.0, 100.0, -273]:\n",
    "   print(\"°C: {}  : °F: {}\".format(temp, convertCelsius2Fahrenheit(temp)))"
   ]
  },
  {
   "cell_type": "markdown",
   "metadata": {},
   "source": [
    "#### Listing A.12"
   ]
  },
  {
   "cell_type": "code",
   "execution_count": null,
   "metadata": {},
   "outputs": [],
   "source": [
    "# Jetzt eine Funktion, die eine Kurzbeschreibung (Docstring) enthält\n",
    "def convertFahrenheit2Celsius(temp_in_Fahrenheit):\n",
    "   \"\"\" gibt die Temperatur in Grad Celsius zurück\"\"\"\n",
    "   return (temp_in_Fahrenheit - 32) / 1.8\n",
    "\n",
    "# Ausgabe Kurzbeschreibung mit der help Funktion\n",
    "help(convertFahrenheit2Celsius)\n",
    "\n",
    "# oder Direktzugriff auf den docstring mit __doc__\n",
    "print(\"convertFahrenheit2Celsius:\", convertFahrenheit2Celsius.__doc__)"
   ]
  },
  {
   "cell_type": "markdown",
   "metadata": {},
   "source": [
    "#### Listing A.13"
   ]
  },
  {
   "cell_type": "code",
   "execution_count": null,
   "metadata": {},
   "outputs": [],
   "source": [
    "# berechne den Mittelwert einer beliebigen Anzahl an Werten\n",
    "def computeAverage(*arguments):\n",
    "   \"\"\"diese Funktion berechnet den Mittelwert einer beliebigen Anzahl an Zahlen\"\"\"\n",
    "   sum = 0\n",
    "   count = len(arguments)\n",
    "   for x in arguments:\n",
    "      sum = sum + x\n",
    "   return sum/count\n",
    "\n",
    "print(computeAverage(3.0,5.0))\n",
    "print(computeAverage(50.0,43.75,10.33,100.35))\n"
   ]
  },
  {
   "cell_type": "markdown",
   "metadata": {},
   "source": [
    "#### Listing A.14"
   ]
  },
  {
   "cell_type": "code",
   "execution_count": 7,
   "metadata": {},
   "outputs": [
    {
     "data": {
      "text/plain": [
       "<function __main__.<lambda>(argumente)>"
      ]
     },
     "execution_count": 7,
     "metadata": {},
     "output_type": "execute_result"
    }
   ],
   "source": [
    "lambda argumente : ausdruck"
   ]
  },
  {
   "cell_type": "markdown",
   "metadata": {},
   "source": [
    "#### Listing A.15"
   ]
  },
  {
   "cell_type": "code",
   "execution_count": null,
   "metadata": {},
   "outputs": [],
   "source": [
    "def add_values(x, y, z)\n",
    "return x + y + z\n",
    "\n",
    "print(5,4,7)"
   ]
  },
  {
   "cell_type": "markdown",
   "metadata": {},
   "source": [
    "#### Listing A.16"
   ]
  },
  {
   "cell_type": "code",
   "execution_count": 9,
   "metadata": {},
   "outputs": [
    {
     "name": "stdout",
     "output_type": "stream",
     "text": [
      "16\n"
     ]
    }
   ],
   "source": [
    "add_values = lambda x, y, z: x+y+z\n",
    "print(add_values(5,4,7))"
   ]
  },
  {
   "cell_type": "markdown",
   "metadata": {},
   "source": [
    "#### Listing A.17"
   ]
  },
  {
   "cell_type": "code",
   "execution_count": 6,
   "metadata": {},
   "outputs": [],
   "source": [
    "# Wir verwenden das \"class\"-Statement, um eine Klasse zu erstellen\n",
    "class Human:\n",
    "\n",
    "   # Klassenattribute, die alle Instanzen dieser Klasse teilen\n",
    "   species = \"Homo sapiens\"\n",
    "   \n",
    "   # Jede Klasse braucht eine Initialisierung, wenn mittels dieser \n",
    "   # Klassendefinition ein Objekt bzw. Instanz erzeugt wird.\n",
    "   # In Python ist das eine spezielle Methode __init__, die es für alle \n",
    "   # Klassen gibt. Wenn Sie keine schreiben, erzeugt Python sie.\n",
    "   def __init__(self, name):\n",
    "      # In der Initialisierung werden die Attribute mit Werten belegt\n",
    "      # das macht man mit einem speziellen Parameter self\n",
    "      self.name = name\n",
    "      # die Variable _age ist \"gekapselt\", d. h. nur innerhalb \n",
    "      # der Klasse bekannt\n",
    "      # um diese Variable zu belegen bzw. auszugeben, braucht es eigene Methoden\n",
    "      self._age = 0\n",
    "\n",
    "   # Eine erste Methode dieser Klasse\n",
    "   # Jede Methode braucht als erstes Argument \"self\"!\n",
    "   \n",
    "   def greet(self, person):\n",
    "      print(\"ich, {greeter}, grüsse {welcomed}!\".format(greeter=self.name, welcomed=person.name))\n",
    "\n",
    "   # Eine Klasseneigenschaft, die uns die gekapselte Variable age ausgibt\n",
    "   @property\n",
    "   def age(self):\n",
    "      return self._age\n",
    "\n",
    "   # Diese Klasseneigenschaft belegt den Wert der Klassenvariable _age\n",
    "   @age.setter\n",
    "   def age(self, ageInYears):\n",
    "      self._age = ageInYears\n"
   ]
  },
  {
   "cell_type": "markdown",
   "metadata": {},
   "source": [
    "#### Listing A.18"
   ]
  },
  {
   "cell_type": "code",
   "execution_count": 7,
   "metadata": {},
   "outputs": [
    {
     "name": "stdout",
     "output_type": "stream",
     "text": [
      "40\n",
      "ich, Jasmin, grüsse Ottokar!\n"
     ]
    }
   ],
   "source": [
    "person1 = Human(\"Jasmin\")\n",
    "person2 = Human(\"Ottokar\")\n",
    "\n",
    "person1.age = 40\n",
    "person2.age = 35\n",
    "\n",
    "print(person1.age)\n",
    "person1.greet(person2)\n"
   ]
  },
  {
   "cell_type": "markdown",
   "metadata": {},
   "source": [
    "#### Listing A.19"
   ]
  },
  {
   "cell_type": "code",
   "execution_count": null,
   "metadata": {},
   "outputs": [],
   "source": [
    "import math\n",
    "print(math.sqrt(16))"
   ]
  },
  {
   "cell_type": "markdown",
   "metadata": {},
   "source": [
    "#### Listing A.20"
   ]
  },
  {
   "cell_type": "code",
   "execution_count": null,
   "metadata": {},
   "outputs": [],
   "source": [
    "from math import sin, cos, pi\n",
    "# die sinus-Funktion sin() erwartet einen Winkel, aber wie?\n",
    "# als Grad oder Radiant?\n",
    "# Wie wir das herausfinden? Das kennen wir schon.\n",
    "print(sin.__doc__)\n",
    "print(sin(0), sin(pi/2), sin(pi), cos(pi/2))"
   ]
  },
  {
   "cell_type": "markdown",
   "metadata": {},
   "source": [
    "#### Listing A.21"
   ]
  },
  {
   "cell_type": "code",
   "execution_count": null,
   "metadata": {},
   "outputs": [],
   "source": [
    "import math as m\n",
    "# die Quadratwurzel\n",
    "m.sqrt(25)"
   ]
  },
  {
   "cell_type": "markdown",
   "metadata": {},
   "source": [
    "#### Listing A.22"
   ]
  },
  {
   "cell_type": "code",
   "execution_count": null,
   "metadata": {},
   "outputs": [],
   "source": [
    "# Eine vorgefüllte Liste als Darstellung eines Vektors\n",
    "myValues = [2.1, 0 , 3.1, -5]\n",
    "\n",
    "# man kann auch etwas anhängen\n",
    "myValues.append(11)\n",
    "print(\"myValues: \\t\", myValues)\n",
    "\n",
    "# und etwas entfernen\n",
    "myValues.pop()  # entfernt das letzte Element der Liste\n",
    "\n",
    "# Zugriff auf einzelne Elemente der Liste\n",
    "# wie in der Informatik üblich, startet die Nummerierung bei 0\n",
    "print(\"myValues[1]: \\t\", myValues[1])\n",
    "\n",
    "# und ich kann einzelne Elemente verändern\n",
    "myValues[1] = 33\n",
    "\n",
    "# man kann auch Bereiche aus einer Liste herausheben\n",
    "# das kommt uns bekannt vor -> Slicing\n",
    "# der Bereich geht von Index 1 (inklusive) bis Index 3 (exklusive)\n",
    "print(\"myValues[1:3]: \\t\",myValues[1:3])   #  -> [33, 3.1]\n",
    "# Lass den Beginn aus\n",
    "print(\"myValues[2:]: \\t\", myValues[2:])    #  -> [3.1, -5]\n",
    "# Nimm nur jeden zweiten Eintrag\n",
    "print(\"myValues[::2]: \\t\",myValues[::2])   #  -> [33, -5]\n",
    "# Drehe die Liste um\n",
    "print(\"myValues[::-1]: \\t\",myValues[::-1])   #  -> [-5, 3.1, 33, 2.1]\n"
   ]
  },
  {
   "cell_type": "markdown",
   "metadata": {},
   "source": [
    "#### Anhang A.23"
   ]
  },
  {
   "cell_type": "code",
   "execution_count": null,
   "metadata": {},
   "outputs": [],
   "source": [
    "# der schon bekannte Import eines Moduls\n",
    "import numpy as np\n",
    "\n",
    "# wir erstellen zuerst eine Liste (Kernpython) von Werten = Vektor\n",
    "myValues = [10, 120, 250, 50, 88, 99, 600]\n",
    "\n",
    "# Umwandlung in numpy.array\n",
    "myArray = np.array(myValues)\n",
    "print(myArray)\n"
   ]
  },
  {
   "cell_type": "markdown",
   "metadata": {},
   "source": [
    "#### Listing A.24"
   ]
  },
  {
   "cell_type": "code",
   "execution_count": null,
   "metadata": {},
   "outputs": [],
   "source": [
    "print(myArray * 0.621371)\n",
    "myArrayInMiles = myArray * 0.621371"
   ]
  },
  {
   "cell_type": "markdown",
   "metadata": {},
   "source": [
    "#### Listing A.25"
   ]
  },
  {
   "cell_type": "code",
   "execution_count": null,
   "metadata": {},
   "outputs": [],
   "source": [
    "type(myArrayInMiles)"
   ]
  },
  {
   "cell_type": "code",
   "execution_count": null,
   "metadata": {},
   "outputs": [],
   "source": [
    "A = np.array([ [ 2.1, 0, 6.21, 2.1], [-3.5, 3.45, 9.2, 1.55], [22, 0.45, 3.14, -32.1]])\n",
    "print(A)"
   ]
  },
  {
   "cell_type": "code",
   "execution_count": null,
   "metadata": {},
   "outputs": [],
   "source": [
    "# ich kann \"Spezial\"-Arrays erstellen\n",
    "B = np.ones((3,4))  # erstellt eine 3 (Zeilen)x 4 (Spalten) Matrix mit 1en\n",
    "\n",
    "# und einige Arrayoperationen\n",
    "C = A - B   # Elementweise Subtraktion\n",
    "print(C)"
   ]
  },
  {
   "cell_type": "code",
   "execution_count": null,
   "metadata": {},
   "outputs": [],
   "source": [
    "# Transponieren einer Matrix, d. h., ich spiegle die Matrix,\n",
    "# so dass aus einer 3x4-Matrix eine 4x3-Matrix wird\n",
    "print(A.T)"
   ]
  },
  {
   "cell_type": "code",
   "execution_count": null,
   "metadata": {},
   "outputs": [],
   "source": [
    "# die Matrixmultiplikation wird folgendermaßen durchgeführt\n",
    "Czufall = np.random.random((4,3))*3  # erstelle eine Matrix mit Zufallszahlen\n",
    "C = np.matmul(A,Czufall)\n",
    "print(C)"
   ]
  },
  {
   "cell_type": "markdown",
   "metadata": {},
   "source": [
    "#### Listing A.26\n",
    "Nur Pseudocode des KNN-Klassifizierers"
   ]
  },
  {
   "cell_type": "markdown",
   "metadata": {},
   "source": [
    "#### Listing A.27"
   ]
  },
  {
   "cell_type": "code",
   "execution_count": null,
   "metadata": {},
   "outputs": [],
   "source": [
    "# die folgenden Module liefern uns …\n",
    "import numpy as np   # Funktionen zum Sortieren der Distanzen\n",
    "import numpy.linalg as nl   # Funktionen zur Distanzberechnung\n",
    "from collections import Counter # Zählen und Bestimmen der häufigsten Klassen\n",
    "\n",
    "# unsere kNN-Klassifikator-Klasse\n",
    "class myKNN:\n",
    "   \"\"\"k-Nächste-Nachbarn-Klassifikator\"\"\"\n",
    "\n",
    "   def __init__(self, k_neighbours=3):\n",
    "      \"\"\"\n",
    "      Wird zur Initialisierung des Klassifikators aufgerufen\n",
    "      \"\"\"\n",
    "      self.k_neighbours = k_neighbours\n",
    "      \n",
    "   # Trainingsphase des Klassifikators\n",
    "   # Der kNN-Klassifikator braucht eigentlich kein Training, da\n",
    "   # die Klassenzugehörigkeit anhand der nächsten Nachbarn bestimmt wird\n",
    "   # wir übernehmen nur die Liste Xb der bekannten Objekte in die Klasse\n",
    "   def fit(self, Xb, y=None):\n",
    "      \"\"\"\n",
    "      Training des Klassifikators mit Liste der bekannten Objekte Xb\n",
    "      \"\"\"\n",
    "      self.Xb = Xb\n",
    "      self.y = y\n",
    "      \n",
    "      return self\n",
    "\n",
    "   def predict(self, Xu, y=None):\n",
    "      \"\"\"\n",
    "      Klassifizierung der Liste der unbekannten Objekte Xu\n",
    "      \"\"\"\n",
    "      # zuerst bereiten wir den Resultatsvektor vor\n",
    "      classindices = []\n",
    "      \n",
    "      for i in Xu:\n",
    "         # diese Anweisung bestimmt die Distanzen des unbekannten Objekts\n",
    "         # zu allen bekannten Objekten unserer Liste\n",
    "         distances = nl.norm(np.transpose(i - self.Xb), axis=0)\n",
    "\n",
    "         # Sortierung der Distanzen und Liste der ersten k_neighbours-Indizes\n",
    "         indicesSortedDistances = np.argsort(distances)[:self.k_neighbours]\n",
    "\n",
    "         # Bestimme die Häufigkeiten der Klassen und gib die häufigste zurück\n",
    "         mostfrequentClass = Counter(self.y[indicesSortedDistances]).most_common(1)[0][0]\n",
    "         \n",
    "         # Füge das Ergebnis dem Resultatsvektor hinzu\n",
    "         classindices.append(mostfrequentClass)\n",
    "      return classindices\n"
   ]
  },
  {
   "cell_type": "markdown",
   "metadata": {},
   "source": [
    "#### Listing A.28"
   ]
  },
  {
   "cell_type": "code",
   "execution_count": null,
   "metadata": {},
   "outputs": [],
   "source": [
    "# Initialisierung von zwei \"Keksen\" mit unterschiedlichen \"Parametern\"\n",
    "classificator1 = myKNN(k_neighbours=3)\n",
    "classificator2 = myKNN(k_neighbours=5)\n",
    "\n",
    "# Hier nun die x-y-Koordinaten unserer roten und blauen Objekte\n",
    "# und die dazugehörige Klasse\n",
    "Xb = np.array([[1, 8.8], [1, 11], [1.2, 15.9], [3.7, 11], [6.1, 8.8], [9.8, 14.5], [7, 17], [10, 8.1], [11, 10.5], [11.8, 17.5], [16.4, 15.8]])\n",
    "y = np.array([1, 1, 1, 1, 1, 1, 0, 0, 0, 0, 0])\n",
    "\n",
    "# dann das Trainieren\n",
    "classificator1.fit(Xb,y)\n",
    "classificator2.fit(Xb,y)\n",
    "\n",
    "# zum Testen der Klassifikation verwenden wir das grüne Objekt\n",
    "# mit den Merkmalen (9,9) mit \n",
    "# unbekannter Klasse und speichern sie unter der Variablen Xu ab\n",
    "# auch hier verwenden wir das Modul numpy, das wir bei der Definition\n",
    "# der Klasse bereits importiert haben\n",
    "Xu = np.array([[9, 9]])\n",
    "\n",
    "# Und jetzt zur Klassifikation\n",
    "print(\"classificator 1: \", classificator1.predict(Xu))\n",
    "\n",
    "print(\"classificator 2: \", classificator2.predict(Xu))\n"
   ]
  },
  {
   "cell_type": "code",
   "execution_count": null,
   "metadata": {},
   "outputs": [],
   "source": []
  }
 ],
 "metadata": {
  "kernelspec": {
   "display_name": "Python 3",
   "language": "python",
   "name": "python3"
  },
  "language_info": {
   "codemirror_mode": {
    "name": "ipython",
    "version": 3
   },
   "file_extension": ".py",
   "mimetype": "text/x-python",
   "name": "python",
   "nbconvert_exporter": "python",
   "pygments_lexer": "ipython3",
   "version": "3.6.9"
  }
 },
 "nbformat": 4,
 "nbformat_minor": 2
}
