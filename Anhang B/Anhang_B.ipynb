{
 "cells": [
  {
   "cell_type": "markdown",
   "metadata": {},
   "source": [
    "# Anhang B"
   ]
  },
  {
   "cell_type": "markdown",
   "metadata": {},
   "source": [
    "> ### <span style=\"color:red\">ACHTUNG:</span> Bitte zum Starten im Menü `Cell • Run All` ausführen."
   ]
  },
  {
   "cell_type": "markdown",
   "metadata": {},
   "source": [
    "## Deaktivieren der Warnungen"
   ]
  },
  {
   "cell_type": "code",
   "execution_count": 2,
   "metadata": {},
   "outputs": [],
   "source": [
    "import warnings\n",
    "warnings.filterwarnings('ignore')"
   ]
  },
  {
   "cell_type": "markdown",
   "metadata": {},
   "source": [
    "## Ein Skalar mit numpy"
   ]
  },
  {
   "cell_type": "code",
   "execution_count": 3,
   "metadata": {},
   "outputs": [
    {
     "name": "stdout",
     "output_type": "stream",
     "text": [
      "5\n",
      "Das Skalar a hat die Dimension 0\n"
     ]
    }
   ],
   "source": [
    "# Mathematik\n",
    "import numpy as np\n",
    "\n",
    "a = np.array(5)\n",
    "print(a)\n",
    "print('Das Skalar a hat die Dimension %d' %(a.ndim))"
   ]
  },
  {
   "cell_type": "markdown",
   "metadata": {},
   "source": [
    "## Ein Vektor mit numpy"
   ]
  },
  {
   "cell_type": "code",
   "execution_count": 4,
   "metadata": {},
   "outputs": [
    {
     "name": "stdout",
     "output_type": "stream",
     "text": [
      "[ 0  1 -1]\n",
      "Der Vektor v hat die Dimension 1\n"
     ]
    }
   ],
   "source": [
    "# Mathematik\n",
    "import numpy as np\n",
    "\n",
    "v = np.array([0,1,-1])\n",
    "print(v)\n",
    "print('Der Vektor v hat die Dimension %d' %(v.ndim))"
   ]
  },
  {
   "cell_type": "markdown",
   "metadata": {},
   "source": [
    "## Eine Matrix mit numpy"
   ]
  },
  {
   "cell_type": "code",
   "execution_count": 5,
   "metadata": {},
   "outputs": [
    {
     "name": "stdout",
     "output_type": "stream",
     "text": [
      "[[ 0.   2.  -2. ]\n",
      " [ 0.   0.5  2. ]]\n",
      "Die Matrix m hat die Dimension 2\n"
     ]
    }
   ],
   "source": [
    "# Mathematik\n",
    "import numpy as np\n",
    "\n",
    "m = np.array([[0,2,-2],\n",
    "             [0,0.5,2]])\n",
    "print(m)\n",
    "print('Die Matrix m hat die Dimension %d' %(m.ndim))"
   ]
  },
  {
   "cell_type": "code",
   "execution_count": null,
   "metadata": {},
   "outputs": [],
   "source": []
  }
 ],
 "metadata": {
  "kernelspec": {
   "display_name": "Python 3",
   "language": "python",
   "name": "python3"
  },
  "language_info": {
   "codemirror_mode": {
    "name": "ipython",
    "version": 3
   },
   "file_extension": ".py",
   "mimetype": "text/x-python",
   "name": "python",
   "nbconvert_exporter": "python",
   "pygments_lexer": "ipython3",
   "version": "3.6.8"
  }
 },
 "nbformat": 4,
 "nbformat_minor": 2
}
