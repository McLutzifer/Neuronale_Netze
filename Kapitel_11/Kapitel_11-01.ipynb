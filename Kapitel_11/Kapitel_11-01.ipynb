{
 "cells": [
  {
   "cell_type": "markdown",
   "metadata": {},
   "source": [
    "# Kapitel 11 - 01"
   ]
  },
  {
   "cell_type": "markdown",
   "metadata": {},
   "source": [
    "> ### <span style=\"color:red\">ACHTUNG:</span> Bitte zum Starten im Menü `Cell->Run All` ausführen."
   ]
  },
  {
   "cell_type": "markdown",
   "metadata": {},
   "source": [
    "## Deaktivieren der Warnungen"
   ]
  },
  {
   "cell_type": "code",
   "execution_count": null,
   "metadata": {},
   "outputs": [],
   "source": [
    "import warnings\n",
    "warnings.filterwarnings('ignore')"
   ]
  },
  {
   "cell_type": "markdown",
   "metadata": {},
   "source": [
    "## Feature Engineering"
   ]
  },
  {
   "cell_type": "markdown",
   "metadata": {},
   "source": [
    "#### Listing 11.1"
   ]
  },
  {
   "cell_type": "code",
   "execution_count": 3,
   "metadata": {
    "colab": {},
    "colab_type": "code",
    "id": "evnsJMQgLFAx"
   },
   "outputs": [
    {
     "data": {
      "text/plain": [
       "array([4, 2, 2, 0, 1, 3, 4, 1, 2, 2])"
      ]
     },
     "execution_count": 3,
     "metadata": {},
     "output_type": "execute_result"
    }
   ],
   "source": [
    "# Importiere scikit-learn und pandas für Label Encoding\n",
    "from sklearn import preprocessing\n",
    "import pandas as pd\n",
    "\n",
    "schueler_liste = { 'Schueler' : [1, 2, 3, 4, 5, 6, 7, 8, 9, 10],\n",
    "    'Note': [\"sehr gut\", \"gut\", \"gut\", \"befriedigend\", \"genügend\", \"nicht genügend\", \"sehr gut\", \"genügend\", \"gut\", \"gut\"],\n",
    "    'Haarfarbe': [\"braun\", \"schwarz\", \"blond\", \"blau\", \"schwarz\", \"brünette\", \"rot\", \"braun\", \"schwarz\", \"schwarz\"] }\n",
    "\n",
    "df = pd.DataFrame(schueler_liste, columns = ['Schueler', 'Note', 'Haarfarbe'])\n",
    "\n",
    "lab_enc = preprocessing.LabelEncoder()\n",
    "lab_enc.fit(df['Note'])\n",
    "lab_enc.transform(df['Note'])"
   ]
  },
  {
   "cell_type": "markdown",
   "metadata": {},
   "source": [
    "#### Listing 11.2"
   ]
  },
  {
   "cell_type": "code",
   "execution_count": 4,
   "metadata": {
    "colab": {},
    "colab_type": "code",
    "id": "90CtSAWwLFA_",
    "outputId": "292aa6a4-c311-44f0-a2b6-8e27c54f5b56"
   },
   "outputs": [
    {
     "data": {
      "text/plain": [
       "array([[0., 0., 1., 0., 0., 0.],\n",
       "       [0., 0., 0., 0., 0., 1.],\n",
       "       [0., 1., 0., 0., 0., 0.],\n",
       "       [1., 0., 0., 0., 0., 0.],\n",
       "       [0., 0., 0., 0., 0., 1.],\n",
       "       [0., 0., 0., 1., 0., 0.],\n",
       "       [0., 0., 0., 0., 1., 0.],\n",
       "       [0., 0., 1., 0., 0., 0.],\n",
       "       [0., 0., 0., 0., 0., 1.],\n",
       "       [0., 0., 0., 0., 0., 1.]])"
      ]
     },
     "execution_count": 4,
     "metadata": {},
     "output_type": "execute_result"
    }
   ],
   "source": [
    "one_enc = preprocessing.OneHotEncoder(sparse=False)\n",
    "help_enc = preprocessing.LabelEncoder()\n",
    "\n",
    "# Umwandlung der Haarfarben-Spalte (=string-Daten) in Ganzzahlendarstellung\n",
    "help_col = help_enc.fit_transform(df['Haarfarbe'])\n",
    "one_enc.fit_transform(help_col.reshape(len(df['Haarfarbe']),-1))"
   ]
  },
  {
   "cell_type": "markdown",
   "metadata": {},
   "source": [
    "#### Listing 11.3"
   ]
  },
  {
   "cell_type": "code",
   "execution_count": 5,
   "metadata": {
    "colab": {},
    "colab_type": "code",
    "id": "xTIQBS4-LFBC",
    "scrolled": true
   },
   "outputs": [
    {
     "ename": "ModuleNotFoundError",
     "evalue": "No module named 'category_encoders'",
     "output_type": "error",
     "traceback": [
      "\u001b[1;31m---------------------------------------------------------------------------\u001b[0m",
      "\u001b[1;31mModuleNotFoundError\u001b[0m                       Traceback (most recent call last)",
      "\u001b[1;32m<ipython-input-5-2a2705d9b48e>\u001b[0m in \u001b[0;36m<module>\u001b[1;34m\u001b[0m\n\u001b[1;32m----> 1\u001b[1;33m \u001b[1;32mimport\u001b[0m \u001b[0mcategory_encoders\u001b[0m \u001b[1;32mas\u001b[0m \u001b[0mce\u001b[0m\u001b[1;33m\u001b[0m\u001b[1;33m\u001b[0m\u001b[0m\n\u001b[0m\u001b[0;32m      2\u001b[0m \u001b[1;32mimport\u001b[0m \u001b[0mpandas\u001b[0m \u001b[1;32mas\u001b[0m \u001b[0mpd\u001b[0m\u001b[1;33m\u001b[0m\u001b[1;33m\u001b[0m\u001b[0m\n\u001b[0;32m      3\u001b[0m \u001b[1;32mfrom\u001b[0m \u001b[0msklearn\u001b[0m\u001b[1;33m.\u001b[0m\u001b[0mdatasets\u001b[0m \u001b[1;32mimport\u001b[0m \u001b[0mload_boston\u001b[0m\u001b[1;33m\u001b[0m\u001b[1;33m\u001b[0m\u001b[0m\n\u001b[0;32m      4\u001b[0m \u001b[1;33m\u001b[0m\u001b[0m\n\u001b[0;32m      5\u001b[0m \u001b[1;31m# Vorbereitung der Daten\u001b[0m\u001b[1;33m\u001b[0m\u001b[1;33m\u001b[0m\u001b[1;33m\u001b[0m\u001b[0m\n",
      "\u001b[1;31mModuleNotFoundError\u001b[0m: No module named 'category_encoders'"
     ]
    }
   ],
   "source": [
    "import category_encoders as ce\n",
    "import pandas as pd\n",
    "from sklearn.datasets import load_boston\n",
    "\n",
    "# Vorbereitung der Daten\n",
    "# load_boston liefert ein Dictionary mit Daten zu Hauspreisen im Gebiet Boston\n",
    "# und auch die entsprechenden Feature-Daten\n",
    "bucket = load_boston()\n",
    "\n",
    "# mit dem Befehl print(bucket.DESCR) erhält man eine ausführliche Beschreibung \n",
    "# des Datensatzes\n",
    "y = bucket.target\n",
    "y.shape\n",
    "\n",
    "X = pd.DataFrame(bucket.data,columns=bucket.feature_names)\n",
    "\n",
    "X.head(3)"
   ]
  },
  {
   "cell_type": "markdown",
   "metadata": {},
   "source": [
    "#### Listing 11.4"
   ]
  },
  {
   "cell_type": "code",
   "execution_count": null,
   "metadata": {
    "colab": {},
    "colab_type": "code",
    "id": "IOrvjpdkLFBS"
   },
   "outputs": [],
   "source": [
    "encoded = ce.BinaryEncoder(cols=['CHAS', 'RAD']).fit(X, y)\n",
    "\n",
    "X_trans = encoded.transform(X)\n",
    "\n",
    "X_trans.head(3)"
   ]
  },
  {
   "cell_type": "code",
   "execution_count": null,
   "metadata": {},
   "outputs": [],
   "source": []
  }
 ],
 "metadata": {
  "colab": {
   "name": "Kapitel13_labelonehot.ipynb",
   "provenance": []
  },
  "kernelspec": {
   "display_name": "Python 3",
   "language": "python",
   "name": "python3"
  },
  "language_info": {
   "codemirror_mode": {
    "name": "ipython",
    "version": 3
   },
   "file_extension": ".py",
   "mimetype": "text/x-python",
   "name": "python",
   "nbconvert_exporter": "python",
   "pygments_lexer": "ipython3",
   "version": "3.7.7"
  }
 },
 "nbformat": 4,
 "nbformat_minor": 1
}
