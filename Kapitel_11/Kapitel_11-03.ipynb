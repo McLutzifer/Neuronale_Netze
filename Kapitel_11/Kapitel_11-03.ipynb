{
 "cells": [
  {
   "cell_type": "markdown",
   "metadata": {},
   "source": [
    "# Kapitel 11 - 03"
   ]
  },
  {
   "cell_type": "markdown",
   "metadata": {},
   "source": [
    "> ### <span style=\"color:red\">ACHTUNG:</span> Bitte zum Starten im Menü `Cell->Run All` ausführen."
   ]
  },
  {
   "cell_type": "markdown",
   "metadata": {},
   "source": [
    "## Deaktivieren der Warnungen"
   ]
  },
  {
   "cell_type": "code",
   "execution_count": null,
   "metadata": {},
   "outputs": [],
   "source": [
    "import warnings\n",
    "warnings.filterwarnings('ignore')"
   ]
  },
  {
   "cell_type": "markdown",
   "metadata": {},
   "source": [
    "## Feature Engineering - Teil 03"
   ]
  },
  {
   "cell_type": "markdown",
   "metadata": {},
   "source": [
    "#### Listing 11.10"
   ]
  },
  {
   "cell_type": "code",
   "execution_count": null,
   "metadata": {
    "colab": {},
    "colab_type": "code",
    "id": "zANBEnJBKybc",
    "scrolled": true
   },
   "outputs": [],
   "source": [
    "import nltk\n",
    "\n",
    "# nltk mit GUI-Auswahl\n",
    "# nlt.download()\n",
    "\n",
    "# nltk mit \n",
    "nltk.download(\"popular\")\n"
   ]
  },
  {
   "cell_type": "markdown",
   "metadata": {},
   "source": [
    "#### Listing 11.11"
   ]
  },
  {
   "cell_type": "code",
   "execution_count": null,
   "metadata": {
    "colab": {},
    "colab_type": "code",
    "id": "qA8SllxuKybk"
   },
   "outputs": [],
   "source": [
    "from nltk.tokenize import word_tokenize\n",
    "meinText = \"\"\"Albert hat heute zwar gefrühstückt, allerdings hat er schon wieder einen Riesenhunger. Möglicherweise ist schon wieder Mittag!\"\"\"\n",
    "\n",
    "tokens = nltk.word_tokenize(meinText,'german')\n",
    "\n",
    "print(tokens)"
   ]
  },
  {
   "cell_type": "markdown",
   "metadata": {},
   "source": [
    "#### Listing 11.12"
   ]
  },
  {
   "cell_type": "code",
   "execution_count": null,
   "metadata": {
    "colab": {},
    "colab_type": "code",
    "id": "6VOQtgIOKybv",
    "outputId": "6de4715b-0b63-4726-e287-d3af2f4259cd"
   },
   "outputs": [],
   "source": [
    "tokens = [w.lower() for w in tokens]\n",
    "worte = [w for w in tokens if w.isalpha()]\n",
    "print(worte)"
   ]
  },
  {
   "cell_type": "markdown",
   "metadata": {},
   "source": [
    "#### Listing 11.13"
   ]
  },
  {
   "cell_type": "code",
   "execution_count": 34,
   "metadata": {
    "colab": {},
    "colab_type": "code",
    "id": "s8St8kWzKybz",
    "outputId": "91d866a7-4b64-42b2-87a4-da0cfc311468"
   },
   "outputs": [
    {
     "name": "stdout",
     "output_type": "stream",
     "text": [
      "['aber', 'alle', 'allem', 'allen', 'aller', 'alles', 'als', 'also', 'am', 'an']\n",
      "['dieses', 'diesem', 'eure', 'dort', 'wirst', 'etwas', 'einiges', 'dasselbe', 'einem', 'an']\n"
     ]
    }
   ],
   "source": [
    "from random import shuffle\n",
    "from nltk.corpus import stopwords\n",
    "stoppwoerter = stopwords.words('german')\n",
    "geschuettelt = stopwords.words('german')\n",
    "shuffle(geschuettelt)\n",
    "print(stoppwoerter[:10])\n",
    "print(geschuettelt[:10])\n"
   ]
  },
  {
   "cell_type": "markdown",
   "metadata": {},
   "source": [
    "#### Listing 11.14"
   ]
  },
  {
   "cell_type": "code",
   "execution_count": 35,
   "metadata": {
    "colab": {},
    "colab_type": "code",
    "id": "DaL0CGBuKyb8",
    "outputId": "3a69921d-ea38-41ba-922a-56517e006215",
    "scrolled": true
   },
   "outputs": [
    {
     "name": "stdout",
     "output_type": "stream",
     "text": [
      "['albert', 'hat', 'heut', 'zwar', 'gefruhstuckt', 'allerding', 'hat', 'er', 'schon', 'wied', 'ein', 'riesenh', 'moglicherweis', 'ist', 'schon', 'wied', 'mittag']\n"
     ]
    }
   ],
   "source": [
    "from nltk.stem.snowball import SnowballStemmer\n",
    "snow = SnowballStemmer(\"german\")\n",
    "stemmed = [snow.stem(w) for w in worte]\n",
    "print(stemmed)\n"
   ]
  },
  {
   "cell_type": "markdown",
   "metadata": {},
   "source": [
    "#### Listing 11.15"
   ]
  },
  {
   "cell_type": "code",
   "execution_count": 36,
   "metadata": {},
   "outputs": [
    {
     "name": "stdout",
     "output_type": "stream",
     "text": [
      "{'albert': 0, 'hat': 5, 'heute': 6, 'zwar': 13, 'gefrühstückt': 4, 'allerdings': 1, 'er': 3, 'schon': 11, 'wieder': 12, 'einen': 2, 'riesenhunger': 10, 'möglicherweise': 9, 'ist': 7, 'mittag': 8}\n"
     ]
    }
   ],
   "source": [
    "from sklearn.feature_extraction.text import CountVectorizer\n",
    "myText = [\"Albert hat heute zwar gefrühstückt, allerdings hat er schon wieder einen Riesenhunger. Möglicherweise ist schon wieder Mittag!\"]\n",
    "\n",
    "count_vector = CountVectorizer()\n",
    "bow = count_vector.fit_transform(myText)\n",
    "print(count_vector.vocabulary_)\n"
   ]
  },
  {
   "cell_type": "markdown",
   "metadata": {},
   "source": [
    "#### Listing 11.16"
   ]
  },
  {
   "cell_type": "code",
   "execution_count": null,
   "metadata": {},
   "outputs": [],
   "source": [
    "from tensorflow.keras.preprocessing.image import ImageDataGenerator\n",
    "datagenerator = ImageDataGenerator(\n",
    "    rotation_range = 45,\n",
    "    zoom_range=0.3,\n",
    "    horizontal_flip=True,\n",
    "    width_shift_range=0.3,\n",
    "    height_shift_range=0.2,\n",
    "    fill_mode='nearest')\n"
   ]
  },
  {
   "cell_type": "markdown",
   "metadata": {},
   "source": [
    "#### Listing 11.17"
   ]
  },
  {
   "cell_type": "code",
   "execution_count": null,
   "metadata": {
    "colab": {},
    "colab_type": "code",
    "id": "kfTZ3v3tKycN"
   },
   "outputs": [],
   "source": [
    "from sklearn.datasets import load_iris\n",
    "iris_daten = load_iris()\n",
    "iris_X, iris_y = iris_daten.data, iris_daten.target"
   ]
  },
  {
   "cell_type": "markdown",
   "metadata": {},
   "source": [
    "#### Listing 11.18"
   ]
  },
  {
   "cell_type": "code",
   "execution_count": null,
   "metadata": {
    "colab": {},
    "colab_type": "code",
    "id": "fdwOwJePKycQ",
    "outputId": "4bdd06b8-3afd-41fc-b1da-329070c188ae"
   },
   "outputs": [],
   "source": [
    "from sklearn.decomposition import PCA\n",
    "iris_pca = PCA(n_components=2)"
   ]
  },
  {
   "cell_type": "markdown",
   "metadata": {},
   "source": [
    "#### Listing 11.19"
   ]
  },
  {
   "cell_type": "code",
   "execution_count": null,
   "metadata": {},
   "outputs": [],
   "source": [
    "iris_pca.fit(iris_X)\n",
    "iris_pca.transform(iris_X)\n",
    "\n",
    "iris_pca.components_"
   ]
  },
  {
   "cell_type": "markdown",
   "metadata": {},
   "source": [
    "#### 11.20"
   ]
  },
  {
   "cell_type": "code",
   "execution_count": null,
   "metadata": {
    "colab": {},
    "colab_type": "code",
    "id": "DerE8cDxKycU",
    "outputId": "855b89c0-4c71-4f9a-885d-a27e4a93ea38"
   },
   "outputs": [],
   "source": [
    "import matplotlib.pyplot as plt\n",
    "%matplotlib inline\n",
    "bezeichnung_dict = {i: k for i, k in enumerate(iris_daten.target_names)}\n",
    "\n",
    "for lab, mark, col in zip(range(3), ('^','s','o'),('green','red','blue')):\n",
    "    plt.scatter(x=iris_X[:,0].real[iris_y==lab],\n",
    "                y=iris_X[:,1].real[iris_y==lab],\n",
    "                color=col\n",
    "               )\n",
    "plt.title(\"Original-IRIS-daten\")\n",
    "plt.xlabel(\"Sepal-Länge (cm)\")\n",
    "plt.ylabel(\"Sepal-Breite (cm)\")\n"
   ]
  },
  {
   "cell_type": "markdown",
   "metadata": {},
   "source": [
    "#### Lösung Aufgabe"
   ]
  },
  {
   "cell_type": "code",
   "execution_count": null,
   "metadata": {
    "colab": {},
    "colab_type": "code",
    "id": "FjRI9wdVKycd",
    "outputId": "75c3df19-9013-4320-eb46-7ac6d105bc13"
   },
   "outputs": [],
   "source": [
    "import matplotlib.pyplot as plt\n",
    "%matplotlib inline\n",
    "for lab, mark, col in zip(range(3), ('^','s','o'),('green','red','blue')):\n",
    "    plt.scatter(x=iris_pca.transform(iris_X)[:,0].real[iris_y==lab],\n",
    "                y=iris_pca.transform(iris_X)[:,1].real[iris_y==lab],\n",
    "                color=col\n",
    "               )\n",
    "plt.title(\"PCA-transformierte IRIS-Daten\")\n",
    "plt.xlabel(\"PCA 1\")\n",
    "plt.ylabel(\"PCA 2\")"
   ]
  },
  {
   "cell_type": "markdown",
   "metadata": {},
   "source": [
    "#### Listing 11.21"
   ]
  },
  {
   "cell_type": "code",
   "execution_count": null,
   "metadata": {
    "colab": {},
    "colab_type": "code",
    "id": "PdHPcTdnKych"
   },
   "outputs": [],
   "source": [
    "X, y = iris_X, iris_y\n",
    "\n",
    "from sklearn.feature_selection import SelectKBest\n",
    "from sklearn.feature_selection import chi2\n",
    "test = SelectKBest(score_func=chi2, k=2)\n",
    "myFilter = test.fit(X,y)\n",
    "X_trans = myFilter.transform(X)\n",
    "print(X_trans)"
   ]
  },
  {
   "cell_type": "markdown",
   "metadata": {},
   "source": [
    "#### Listing 11.21"
   ]
  },
  {
   "cell_type": "code",
   "execution_count": null,
   "metadata": {},
   "outputs": [],
   "source": [
    "X, y = iris_X, iris_y\n",
    "\n",
    "from sklearn.feature_selection import RFE\n",
    "from sklearn.linear_model import LogisticRegression\n",
    "\n",
    "myModel = LogisticRegression()\n",
    "test = RFE(myModel, n_features_to_select=3)\n",
    "myFilter = rfe.fit(X,y)\n",
    "\n",
    "X_fre = myFilter.transform(X)\n",
    "\n",
    "print(X_fre)"
   ]
  },
  {
   "cell_type": "code",
   "execution_count": null,
   "metadata": {},
   "outputs": [],
   "source": []
  }
 ],
 "metadata": {
  "colab": {
   "name": "FeatureEngineering.ipynb",
   "provenance": []
  },
  "kernelspec": {
   "display_name": "Python 3",
   "language": "python",
   "name": "python3"
  },
  "language_info": {
   "codemirror_mode": {
    "name": "ipython",
    "version": 3
   },
   "file_extension": ".py",
   "mimetype": "text/x-python",
   "name": "python",
   "nbconvert_exporter": "python",
   "pygments_lexer": "ipython3",
   "version": "3.7.4"
  }
 },
 "nbformat": 4,
 "nbformat_minor": 1
}
