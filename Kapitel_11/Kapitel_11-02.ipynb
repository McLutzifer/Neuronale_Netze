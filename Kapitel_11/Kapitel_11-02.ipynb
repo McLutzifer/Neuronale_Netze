{
 "cells": [
  {
   "cell_type": "markdown",
   "metadata": {},
   "source": [
    "# Kapitel 11 - 02"
   ]
  },
  {
   "cell_type": "markdown",
   "metadata": {},
   "source": [
    "> ### <span style=\"color:red\">ACHTUNG:</span> Bitte zum Starten im Menü `Cell->Run All` ausführen."
   ]
  },
  {
   "cell_type": "markdown",
   "metadata": {},
   "source": [
    "## Deaktivieren der Warnungen"
   ]
  },
  {
   "cell_type": "code",
   "execution_count": null,
   "metadata": {},
   "outputs": [],
   "source": [
    "import warnings\n",
    "warnings.filterwarnings('ignore')"
   ]
  },
  {
   "cell_type": "markdown",
   "metadata": {},
   "source": [
    "## Feature Engineering - Teil 02"
   ]
  },
  {
   "cell_type": "markdown",
   "metadata": {},
   "source": [
    "#### Listing 11.5"
   ]
  },
  {
   "cell_type": "code",
   "execution_count": null,
   "metadata": {
    "colab": {},
    "colab_type": "code",
    "id": "-CH-5mLcK9Sx"
   },
   "outputs": [],
   "source": [
    "import numpy as np\n",
    "import matplotlib.pyplot as plt\n",
    "\n",
    "# Erzeuge 150 zufällige Alterswerte im Bereich zwischen 0 und 99\n",
    "zaehler = np.random.randint(0,100,150)\n",
    "\n",
    "# Ordne die Zahlenwerte den Bins zu, im 10er-Abstand (also 0-9, 10-19 etc.)\n",
    "np.floor_divide(zaehler,10)\n",
    "\n",
    "# Die Ausgabe als Grafik\n",
    "plt.hist(zaehler, bins=10)\n",
    "plt.ylabel('Frequenz')\n",
    "plt.xlabel('Altersbereiche')\n",
    "plt.show()\n",
    "\n",
    "# Zeige die ersten 10 Werte\n",
    "print(zaehler[:10])\n"
   ]
  },
  {
   "cell_type": "markdown",
   "metadata": {},
   "source": [
    "#### Listing 11.6"
   ]
  },
  {
   "cell_type": "code",
   "execution_count": null,
   "metadata": {},
   "outputs": [],
   "source": [
    "import pandas as pd\n",
    "# Generiere beliebige Zahlen\n",
    "rand_elems = np.random.randint(0,10000,100)\n",
    "\n",
    "# bei der Bestimmung der Perzentil-Grenzen hilft uns die pandas-Funktion qcut\n",
    "perc_limits = pd.qcut(rand_elems, 10)\n",
    "perc_limits\n"
   ]
  },
  {
   "cell_type": "markdown",
   "metadata": {},
   "source": [
    "#### Listing 11.7"
   ]
  },
  {
   "cell_type": "code",
   "execution_count": null,
   "metadata": {
    "colab": {},
    "colab_type": "code",
    "id": "C3lxgnKuK9TT"
   },
   "outputs": [],
   "source": [
    "import numpy as np\n",
    "import matplotlib.pyplot as plt\n",
    "\n",
    "# generiere 150 Zahlen mit grossen Zahlenunterschieden, die Webzugriffe \n",
    "# simulieren sollen\n",
    "webzugriffe = np.random.randint(0,1000000,150)\n",
    "\n",
    "# Ausgabe des logarithmischen Binnings, wo die Grenzen der Bins \n",
    "# 10er-Logarithmen sind\n",
    "plt.hist(webzugriffe,bins=np.logspace(np.log10(0.1),np.log10(1000000.0),50))\n",
    "plt.gca().set_xscale(\"log\")\n",
    "plt.ylabel('Frequenz')\n",
    "plt.xlabel('Webzugriffe')\n",
    "plt.show()\n",
    "\n",
    "print(webzugriffe[:10])\n"
   ]
  },
  {
   "cell_type": "markdown",
   "metadata": {},
   "source": [
    "#### Listing 11.8"
   ]
  },
  {
   "cell_type": "code",
   "execution_count": null,
   "metadata": {
    "colab": {},
    "colab_type": "code",
    "id": "lEKO1NVqK9Tl",
    "outputId": "ff3d9036-498f-430a-81f5-f1f949fc3985"
   },
   "outputs": [],
   "source": [
    "from sklearn.preprocessing import scale, minmax_scale\n",
    "import matplotlib.pyplot as plt\n",
    "import numpy as np\n",
    "\n",
    "rand_elems = np.random.randint(0,10000,100).astype(np.float64)\n",
    "\n",
    "x_minmax_sc = minmax_scale(rand_elems)\n",
    "x_var_sc = scale(rand_elems,with_mean=True, with_std=True)"
   ]
  },
  {
   "cell_type": "markdown",
   "metadata": {},
   "source": [
    "#### Listing 11.9"
   ]
  },
  {
   "cell_type": "code",
   "execution_count": 32,
   "metadata": {},
   "outputs": [
    {
     "name": "stdout",
     "output_type": "stream",
     "text": [
      "Adresse: 4, Rheinwerkallee, Ramersdorf, Bonn-Beuel, Bonn, Nordrhein-Westfalen, 53227, Deutschland\n",
      "LatLon: 50.71721315 7.153693184803394\n"
     ]
    }
   ],
   "source": [
    "# Importieren der richtigen Bibliothek\n",
    "from geopy.geocoders import Nominatim\n",
    "\n",
    "# Verwendung des Nominatim-geocoder für OpenStreetMap-Daten\n",
    "# Nominatim braucht einen user_agent, \n",
    "# der eine beliebe Bezeichnung tragen kann\n",
    "geolocator = Nominatim(user_agent=\"Meine Anwendung\")\n",
    "\n",
    "# Eingabe der geschriebenen Adresse\n",
    "lokation = geolocator.geocode(\"Rheinwerkallee 4, 52227 Bonn\")\n",
    "print(\"Adresse:\", lokation.address)\n",
    "print(\"LatLon:\", lokation.latitude, lokation.longitude)\n"
   ]
  },
  {
   "cell_type": "code",
   "execution_count": null,
   "metadata": {},
   "outputs": [],
   "source": []
  }
 ],
 "metadata": {
  "colab": {
   "name": "Kapitel13_Features.ipynb",
   "provenance": []
  },
  "kernelspec": {
   "display_name": "Python 3",
   "language": "python",
   "name": "python3"
  },
  "language_info": {
   "codemirror_mode": {
    "name": "ipython",
    "version": 3
   },
   "file_extension": ".py",
   "mimetype": "text/x-python",
   "name": "python",
   "nbconvert_exporter": "python",
   "pygments_lexer": "ipython3",
   "version": "3.7.7"
  }
 },
 "nbformat": 4,
 "nbformat_minor": 1
}
