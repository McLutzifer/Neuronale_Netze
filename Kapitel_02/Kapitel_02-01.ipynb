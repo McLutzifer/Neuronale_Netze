{
 "cells": [
  {
   "cell_type": "markdown",
   "metadata": {},
   "source": [
    "## Markdown-Zelle\n",
    "Im folgenden zeigen wir zwei idente Markdown-Zellen, einmal in Ausgangsform und einmal übersetzt."
   ]
  },
  {
   "cell_type": "markdown",
   "metadata": {},
   "source": [
    "Das ist ein **Text** mit *Formatierungszeichen*\n",
    "\n",
    "1. nummerierte Listen beginnen mit einer Nummer\n",
    "2. wobei die Nummer beliebig gewählt werden kann\n",
    "1. nämlich so - beim Übersetzen wird das richtig gestellt\n",
    "    1. Sublisten werden mit Einrückung (Tabulator) erstellt\n",
    "    \n",
    "Absätze werden durch eine Leerzeile erzeugt  \n",
    "Zeilenumbrüche durch zwei Leerzeichen am Ende einer Zeile.\n",
    "\n",
    "Auch Weblinks können durch Rundklammern schnell eingefügt werden,  \n",
    "zum Beispiel der Link zur [Anaconda-Seite](https://anaconda.org)."
   ]
  },
  {
   "cell_type": "markdown",
   "metadata": {},
   "source": [
    "Das ist ein **Text** mit *Formatierungszeichen*\n",
    "\n",
    "1. nummerierte Listen beginnen mit einer Nummer\n",
    "2. wobei die Nummer beliebig gewählt werden kann\n",
    "1. nämlich so - beim Übersetzen wird das richtig gestellt\n",
    "    1. Sublisten werden mit Einrückung (Tabulator) erstellt\n",
    "    \n",
    "Absätze werden durch eine Leerzeile erzeugt  \n",
    "Zeilenumbrüche durch zwei Leerzeichen am Ende einer Zeile.\n",
    "\n",
    "Auch Weblinks können durch Rundklammern schnell eingefügt werden,  \n",
    "zum Beispiel der Link zur [Anaconda-Seite](https://anaconda.org)."
   ]
  },
  {
   "cell_type": "markdown",
   "metadata": {},
   "source": [
    "## Code-Zelle"
   ]
  },
  {
   "cell_type": "code",
   "execution_count": 1,
   "metadata": {},
   "outputs": [
    {
     "name": "stdout",
     "output_type": "stream",
     "text": [
      "das ist unser erster Python-Code und wir grüßen die Welt und besonders unsere Leser\n"
     ]
    }
   ],
   "source": [
    "a = \"das ist unser erster Python-Code und wir grüßen die Welt und besonders unsere Leser\"\n",
    "print(a)"
   ]
  }
 ],
 "metadata": {
  "kernelspec": {
   "display_name": "Python 3",
   "language": "python",
   "name": "python3"
  },
  "language_info": {
   "codemirror_mode": {
    "name": "ipython",
    "version": 3
   },
   "file_extension": ".py",
   "mimetype": "text/x-python",
   "name": "python",
   "nbconvert_exporter": "python",
   "pygments_lexer": "ipython3",
   "version": "3.6.9"
  }
 },
 "nbformat": 4,
 "nbformat_minor": 2
}
