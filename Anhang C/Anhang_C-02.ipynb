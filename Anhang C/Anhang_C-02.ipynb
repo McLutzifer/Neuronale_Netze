{
 "cells": [
  {
   "cell_type": "markdown",
   "metadata": {
    "colab_type": "text",
    "id": "j4ACr6S8Wh93"
   },
   "source": [
    "# Anhang C - 02"
   ]
  },
  {
   "cell_type": "markdown",
   "metadata": {
    "colab_type": "text",
    "id": "NR5WorxgWh97"
   },
   "source": [
    "> ### <span style=\"color:red\">ACHTUNG:</span> Bitte zum Starten im Menü `Cell->Run All` ausführen."
   ]
  },
  {
   "cell_type": "markdown",
   "metadata": {},
   "source": [
    "## Deaktivieren der Warnungen"
   ]
  },
  {
   "cell_type": "code",
   "execution_count": 1,
   "metadata": {},
   "outputs": [],
   "source": [
    "import warnings\n",
    "warnings.filterwarnings('ignore')"
   ]
  },
  {
   "cell_type": "markdown",
   "metadata": {},
   "source": [
    "#### Listing C.2"
   ]
  },
  {
   "cell_type": "code",
   "execution_count": null,
   "metadata": {},
   "outputs": [],
   "source": [
    "import tensorflow as tf\n",
    "\n",
    "a = tf.constant(1)\n",
    "b = tf.constant(2)\n",
    "c = tf.Variable(5)\n",
    "d = tf.multiply(a,c)+b\n",
    "print(\"Eager Execution ist eingeschaltet? {}\".format(tf.executing_eagerly()))\n",
    "print(d)"
   ]
  },
  {
   "cell_type": "markdown",
   "metadata": {},
   "source": [
    "#### Listing C.3"
   ]
  },
  {
   "cell_type": "code",
   "execution_count": 18,
   "metadata": {},
   "outputs": [
    {
     "name": "stdout",
     "output_type": "stream",
     "text": [
      "WARNING:tensorflow:There is non-GPU devices in `tf.distribute.Strategy`, not using nccl allreduce.\n",
      "Anzahl GPUs: 1\n"
     ]
    }
   ],
   "source": [
    "strategy = tf.distribute.MirroredStrategy()\n",
    "print(\"Anzahl GPUs: {}\".format(strategy.num_replicas_in_sync))\n",
    "\n",
    "input_dimension = 4 # also Daten mit 4 Features (z.B. Iris-Datensatz, Kapitel 3)\n",
    "classes = 3 # wir erwarten uns also drei Klassen\n",
    "\n",
    "with strategy.scope():\n",
    "    model = Sequential()\n",
    "    model.add(Dense(32,input_shape = (input_dimension,)))\n",
    "    model.add(Dense(64))\n",
    "    model.add(Dense(classes))\n",
    "    \n",
    "model.compile(loss='categorical_crossentropy', \n",
    "             optimizer='adam',\n",
    "             metrics=['accuracy'])"
   ]
  },
  {
   "cell_type": "markdown",
   "metadata": {},
   "source": [
    "#### Listing C.4"
   ]
  },
  {
   "cell_type": "code",
   "execution_count": 30,
   "metadata": {
    "scrolled": true
   },
   "outputs": [
    {
     "name": "stdout",
     "output_type": "stream",
     "text": [
      "Train on 6 samples\n",
      "Epoch 1/50\n",
      "6/6 [==============================] - 0s 52ms/sample - loss: 45.3186\n",
      "Epoch 2/50\n",
      "6/6 [==============================] - 0s 2ms/sample - loss: 22.9742\n",
      "Epoch 3/50\n",
      "6/6 [==============================] - 0s 1ms/sample - loss: 15.4052\n",
      "Epoch 4/50\n",
      "6/6 [==============================] - 0s 1ms/sample - loss: 10.9789\n",
      "Epoch 5/50\n",
      "6/6 [==============================] - 0s 1ms/sample - loss: 7.8756\n",
      "Epoch 6/50\n",
      "6/6 [==============================] - 0s 2ms/sample - loss: 5.6074\n",
      "Epoch 7/50\n",
      "6/6 [==============================] - 0s 2ms/sample - loss: 4.0045\n",
      "Epoch 8/50\n",
      "6/6 [==============================] - 0s 2ms/sample - loss: 2.9452\n",
      "Epoch 9/50\n",
      "6/6 [==============================] - 0s 1ms/sample - loss: 2.2901\n",
      "Epoch 10/50\n",
      "6/6 [==============================] - 0s 2ms/sample - loss: 1.8985\n",
      "Epoch 11/50\n",
      "6/6 [==============================] - 0s 1ms/sample - loss: 1.6585\n",
      "Epoch 12/50\n",
      "6/6 [==============================] - 0s 2ms/sample - loss: 1.4982\n",
      "Epoch 13/50\n",
      "6/6 [==============================] - 0s 1ms/sample - loss: 1.3777\n",
      "Epoch 14/50\n",
      "6/6 [==============================] - 0s 2ms/sample - loss: 1.2775\n",
      "Epoch 15/50\n",
      "6/6 [==============================] - 0s 2ms/sample - loss: 1.1889\n",
      "Epoch 16/50\n",
      "6/6 [==============================] - 0s 2ms/sample - loss: 1.1080\n",
      "Epoch 17/50\n",
      "6/6 [==============================] - 0s 2ms/sample - loss: 1.0328\n",
      "Epoch 18/50\n",
      "6/6 [==============================] - 0s 1ms/sample - loss: 0.9627\n",
      "Epoch 19/50\n",
      "6/6 [==============================] - 0s 2ms/sample - loss: 0.8970\n",
      "Epoch 20/50\n",
      "6/6 [==============================] - 0s 2ms/sample - loss: 0.8355\n",
      "Epoch 21/50\n",
      "6/6 [==============================] - 0s 2ms/sample - loss: 0.7778\n",
      "Epoch 22/50\n",
      "6/6 [==============================] - 0s 2ms/sample - loss: 0.7238\n",
      "Epoch 23/50\n",
      "6/6 [==============================] - 0s 1ms/sample - loss: 0.6733\n",
      "Epoch 24/50\n",
      "6/6 [==============================] - 0s 1ms/sample - loss: 0.6259\n",
      "Epoch 25/50\n",
      "6/6 [==============================] - 0s 2ms/sample - loss: 0.5817\n",
      "Epoch 26/50\n",
      "6/6 [==============================] - 0s 2ms/sample - loss: 0.5403\n",
      "Epoch 27/50\n",
      "6/6 [==============================] - 0s 1ms/sample - loss: 0.5015\n",
      "Epoch 28/50\n",
      "6/6 [==============================] - 0s 1ms/sample - loss: 0.4654\n",
      "Epoch 29/50\n",
      "6/6 [==============================] - 0s 2ms/sample - loss: 0.4316\n",
      "Epoch 30/50\n",
      "6/6 [==============================] - 0s 1ms/sample - loss: 0.4001\n",
      "Epoch 31/50\n",
      "6/6 [==============================] - 0s 2ms/sample - loss: 0.3707\n",
      "Epoch 32/50\n",
      "6/6 [==============================] - 0s 1ms/sample - loss: 0.3433\n",
      "Epoch 33/50\n",
      "6/6 [==============================] - 0s 2ms/sample - loss: 0.3178\n",
      "Epoch 34/50\n",
      "6/6 [==============================] - 0s 1ms/sample - loss: 0.2941\n",
      "Epoch 35/50\n",
      "6/6 [==============================] - 0s 2ms/sample - loss: 0.2720\n",
      "Epoch 36/50\n",
      "6/6 [==============================] - 0s 2ms/sample - loss: 0.2514\n",
      "Epoch 37/50\n",
      "6/6 [==============================] - 0s 1ms/sample - loss: 0.2323\n",
      "Epoch 38/50\n",
      "6/6 [==============================] - 0s 1ms/sample - loss: 0.2145\n",
      "Epoch 39/50\n",
      "6/6 [==============================] - 0s 2ms/sample - loss: 0.1981\n",
      "Epoch 40/50\n",
      "6/6 [==============================] - 0s 2ms/sample - loss: 0.1828\n",
      "Epoch 41/50\n",
      "6/6 [==============================] - 0s 1ms/sample - loss: 0.1686\n",
      "Epoch 42/50\n",
      "6/6 [==============================] - 0s 2ms/sample - loss: 0.1555\n",
      "Epoch 43/50\n",
      "6/6 [==============================] - 0s 2ms/sample - loss: 0.1433\n",
      "Epoch 44/50\n",
      "6/6 [==============================] - 0s 2ms/sample - loss: 0.1320\n",
      "Epoch 45/50\n",
      "6/6 [==============================] - 0s 3ms/sample - loss: 0.1216\n",
      "Epoch 46/50\n",
      "6/6 [==============================] - 0s 2ms/sample - loss: 0.1119\n",
      "Epoch 47/50\n",
      "6/6 [==============================] - 0s 2ms/sample - loss: 0.1030\n",
      "Epoch 48/50\n",
      "6/6 [==============================] - 0s 2ms/sample - loss: 0.0948\n",
      "Epoch 49/50\n",
      "6/6 [==============================] - 0s 2ms/sample - loss: 0.0872\n",
      "Epoch 50/50\n",
      "6/6 [==============================] - 0s 2ms/sample - loss: 0.0801\n",
      "INFO:tensorflow:Assets written to: test\\assets\n"
     ]
    },
    {
     "data": {
      "text/plain": [
       "1128"
      ]
     },
     "execution_count": 30,
     "metadata": {},
     "output_type": "execute_result"
    }
   ],
   "source": [
    "import tensorflow as tf\n",
    "\n",
    "verzeichnis = \"test\" # hier ist ein beliebiges eigenes Verzeichnis einzusetzen\n",
    "\n",
    "# Erstelle ein einfaches tf.keras Modell\n",
    "x = [-1, 0, 1, 2, 3, 4]\n",
    "y = [3, 1, -1, -3, -5, -7]\n",
    "\n",
    "model = tf.keras.models.Sequential()\n",
    "model.add(Dense(2, input_shape=[1]))\n",
    "model.add(Dense(1))\n",
    "\n",
    "# Bestimme Loss-Funktion und Optimierungsverfahren\n",
    "model.compile(optimizer='sgd', loss='mean_squared_error')\n",
    "\n",
    "# Starte das Training\n",
    "model.fit(x, y, epochs=50)\n",
    "\n",
    "\n",
    "# ********** Methode A *********** \n",
    "# Lade das trainierte Modell vom Verzeichnis in ein converter-Objekt\n",
    "# Speichere das trainierte Modell in das Verzeichnis\n",
    "tf.keras.models.save_model(model,verzeichnis)\n",
    "# Initialisierung Konverter\n",
    "converter = tf.lite.TFLiteConverter.from_saved_model(verzeichnis)\n",
    "\n",
    "# ********** Methode B ***********\n",
    "# Initialisierung Konverter direkt vom Python-Modell\n",
    "converter = tf.lite.TFLiteConverter.from_keras_model(model)\n",
    "\n",
    "# Konvertierung des Modells\n",
    "tflite_model = converter.convert()"
   ]
  },
  {
   "cell_type": "markdown",
   "metadata": {},
   "source": [
    "#### Listing C.5"
   ]
  },
  {
   "cell_type": "code",
   "execution_count": 31,
   "metadata": {},
   "outputs": [
    {
     "data": {
      "text/plain": [
       "1128"
      ]
     },
     "execution_count": 31,
     "metadata": {},
     "output_type": "execute_result"
    }
   ],
   "source": [
    "import pathlib\n",
    "\n",
    "verzeichnis = \"test\" # hier ist ein beliebiges eigenes Verzeichnis einzusetzen\n",
    "\n",
    "# Speichern des TFLite Modells\n",
    "tflite_models_dir = pathlib.Path(verzeichnis)\n",
    "tflite_models_dir.mkdir(exist_ok=True, parents=True)\n",
    "tflite_model_file = tflite_models_dir/\"mein_model.tflite\"\n",
    "tflite_model_file.write_bytes(tflite_model)\n"
   ]
  },
  {
   "cell_type": "markdown",
   "metadata": {},
   "source": [
    "#### Listing C.6"
   ]
  },
  {
   "cell_type": "code",
   "execution_count": 3,
   "metadata": {
    "scrolled": true
   },
   "outputs": [
    {
     "name": "stdout",
     "output_type": "stream",
     "text": [
      "Model: \"sequential\"\n",
      "_________________________________________________________________\n",
      "Layer (type)                 Output Shape              Param #   \n",
      "=================================================================\n",
      "dense (Dense)                (None, 32)                160       \n",
      "_________________________________________________________________\n",
      "dense_1 (Dense)              (None, 64)                2112      \n",
      "_________________________________________________________________\n",
      "dense_2 (Dense)              (None, 3)                 195       \n",
      "_________________________________________________________________\n",
      "activation (Activation)      (None, 3)                 0         \n",
      "=================================================================\n",
      "Total params: 2,467\n",
      "Trainable params: 2,467\n",
      "Non-trainable params: 0\n",
      "_________________________________________________________________\n"
     ]
    }
   ],
   "source": [
    "# Import der notwendigen Pakete\n",
    "from tensorflow.keras.models import Model\n",
    "from tensorflow.keras.models import Sequential\n",
    "from tensorflow.keras.layers import Activation\n",
    "from tensorflow.keras.layers import Input\n",
    "from tensorflow.keras.layers import Dense\n",
    "\n",
    "input_dimension = 4 # also Daten mit 4 Features (z.B. Iris-Datensatz, Kapitel 3)\n",
    "classes = 3 # wir erwarten uns also drei Klassen\n",
    "\n",
    "model = Sequential()\n",
    "model.add(Dense(32,input_shape = (input_dimension,)))\n",
    "model.add(Dense(64))\n",
    "model.add(Dense(classes))\n",
    "model.add(Activation(\"softmax\"))\n",
    "\n",
    "model.summary()\n"
   ]
  },
  {
   "cell_type": "markdown",
   "metadata": {},
   "source": [
    "#### Listing C.7"
   ]
  },
  {
   "cell_type": "code",
   "execution_count": 14,
   "metadata": {
    "scrolled": false
   },
   "outputs": [
    {
     "name": "stdout",
     "output_type": "stream",
     "text": [
      "Model: \"model_6\"\n",
      "_________________________________________________________________\n",
      "Layer (type)                 Output Shape              Param #   \n",
      "=================================================================\n",
      "input_7 (InputLayer)         [(None, 4)]               0         \n",
      "_________________________________________________________________\n",
      "dense_24 (Dense)             (None, 32)                160       \n",
      "_________________________________________________________________\n",
      "dense_25 (Dense)             (None, 64)                2112      \n",
      "_________________________________________________________________\n",
      "dense_26 (Dense)             (None, 3)                 195       \n",
      "_________________________________________________________________\n",
      "activation_7 (Activation)    (None, 3)                 0         \n",
      "=================================================================\n",
      "Total params: 2,467\n",
      "Trainable params: 2,467\n",
      "Non-trainable params: 0\n",
      "_________________________________________________________________\n",
      "Ausgabe Zwischenschicht:  Tensor(\"dense_26/Identity:0\", shape=(None, 3), dtype=float32)\n",
      "Ausgabe Letze Schicht:  Tensor(\"activation_7/Identity:0\", shape=(None, 3), dtype=float32)\n"
     ]
    }
   ],
   "source": [
    "# Import der notwendigen Pakete\n",
    "from tensorflow.keras.models import Model\n",
    "from tensorflow.keras.models import Sequential\n",
    "from tensorflow.keras.layers import Activation\n",
    "from tensorflow.keras.layers import Input\n",
    "from tensorflow.keras.layers import Dense\n",
    "\n",
    "input_dimension = 4 # also Daten mit 4 Features (z.B. Iris-Datensatz, Kapitel 3)\n",
    "classes = 3 # wir erwarten uns also drei Klassen\n",
    "\n",
    "x_in = Input(shape=(input_dimension,))\n",
    "x = Dense(32)(x_in)\n",
    "x = Dense(64)(x)\n",
    "x_inter = Dense(classes)(x)\n",
    "x_out = Activation(\"softmax\")(x_inter)\n",
    "\n",
    "\n",
    "model = Model(inputs=x_in, outputs=x_out)\n",
    "\n",
    "model.summary()\n",
    "print(\"Ausgabe Zwischenschicht: \",x_inter)\n",
    "print(\"Ausgabe Letze Schicht: \",x_out)"
   ]
  }
 ],
 "metadata": {
  "colab": {
   "name": "Kapitel_02.ipynb",
   "provenance": []
  },
  "kernelspec": {
   "display_name": "Python 3",
   "language": "python",
   "name": "python3"
  },
  "language_info": {
   "codemirror_mode": {
    "name": "ipython",
    "version": 3
   },
   "file_extension": ".py",
   "mimetype": "text/x-python",
   "name": "python",
   "nbconvert_exporter": "python",
   "pygments_lexer": "ipython3",
   "version": "3.7.4"
  }
 },
 "nbformat": 4,
 "nbformat_minor": 1
}
