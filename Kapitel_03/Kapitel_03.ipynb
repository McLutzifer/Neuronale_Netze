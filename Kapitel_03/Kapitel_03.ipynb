{
 "cells": [
  {
   "cell_type": "markdown",
   "metadata": {
    "colab_type": "text",
    "id": "s1ITr70A6aTv"
   },
   "source": [
    "# Kapitel 03"
   ]
  },
  {
   "cell_type": "markdown",
   "metadata": {
    "colab_type": "text",
    "id": "PEdmjdub6aTz"
   },
   "source": [
    "> ### <span style=\"color:red\">ACHTUNG:</span> Bitte zum Starten im Menü `Cell • Run All` ausführen."
   ]
  },
  {
   "cell_type": "markdown",
   "metadata": {
    "colab_type": "text",
    "id": "mgFrJfCs6aT1"
   },
   "source": [
    "## Deaktivieren der Warnungen"
   ]
  },
  {
   "cell_type": "code",
   "execution_count": 1,
   "metadata": {
    "colab": {},
    "colab_type": "code",
    "id": "pEHjmy0-6aT3"
   },
   "outputs": [],
   "source": [
    "import warnings\n",
    "warnings.filterwarnings('ignore')"
   ]
  },
  {
   "cell_type": "markdown",
   "metadata": {
    "colab_type": "text",
    "id": "dYQAjeVo6aT7"
   },
   "source": [
    "## Die Entscheidung"
   ]
  },
  {
   "cell_type": "markdown",
   "metadata": {
    "colab_type": "text",
    "id": "X1MAnNfP6aT7"
   },
   "source": [
    "#### Listing 3.1, Abbildung 3.7"
   ]
  },
  {
   "cell_type": "code",
   "execution_count": 2,
   "metadata": {
    "colab": {
     "base_uri": "https://localhost:8080/",
     "height": 52
    },
    "colab_type": "code",
    "executionInfo": {
     "elapsed": 1886,
     "status": "ok",
     "timestamp": 1575463022742,
     "user": {
      "displayName": "Joachim Steinwendner",
      "photoUrl": "https://lh3.googleusercontent.com/a-/AAuE7mAtf_dkZ7pwye0jQ6j3OB7lBSuKn30mc5n8I5BLVA=s64",
      "userId": "14793446130159111629"
     },
     "user_tz": -60
    },
    "id": "vY804aES6aT8",
    "outputId": "217ebe2e-9b51-4943-f4d8-43835cb49be3"
   },
   "outputs": [
    {
     "name": "stdout",
     "output_type": "stream",
     "text": [
      "Input:  1\n",
      "Output: 1\n"
     ]
    }
   ],
   "source": [
    "def entscheidung( summe ):\n",
    "    \"\"\" Berechnung der Entscheidung zum Wert summe\n",
    "    Input:  summe\n",
    "    Output: 1, falls summe >= 1, \n",
    "            0 sonst \n",
    "    \"\"\"\n",
    "    if summe >= 1: \n",
    "        return 1\n",
    "    else:\n",
    "        return 0\n",
    "#------------------------------\n",
    "# Berechnung der entscheidung\n",
    "ergebnis = entscheidung(1)\n",
    "# Ausgabe in Zelle als String\n",
    "print('Input: ', 1)\n",
    "print('Output:', ergebnis) "
   ]
  },
  {
   "cell_type": "markdown",
   "metadata": {
    "colab_type": "text",
    "id": "K2PiudoO6aUA"
   },
   "source": [
    "## Dokumentationsstring"
   ]
  },
  {
   "cell_type": "code",
   "execution_count": 3,
   "metadata": {
    "colab": {
     "base_uri": "https://localhost:8080/",
     "height": 105
    },
    "colab_type": "code",
    "executionInfo": {
     "elapsed": 1248,
     "status": "ok",
     "timestamp": 1575463026893,
     "user": {
      "displayName": "Joachim Steinwendner",
      "photoUrl": "https://lh3.googleusercontent.com/a-/AAuE7mAtf_dkZ7pwye0jQ6j3OB7lBSuKn30mc5n8I5BLVA=s64",
      "userId": "14793446130159111629"
     },
     "user_tz": -60
    },
    "id": "lhtXEzeR6aUA",
    "outputId": "d080dd5c-8c2c-4292-d3c8-831516a903b5"
   },
   "outputs": [
    {
     "name": "stdout",
     "output_type": "stream",
     "text": [
      "Help on function entscheidung in module __main__:\n",
      "\n",
      "entscheidung(summe)\n",
      "    Berechnung der Entscheidung zum Wert summe\n",
      "    Input:  summe\n",
      "    Output: 1, falls summe >= 1, \n",
      "            0 sonst\n",
      "\n"
     ]
    }
   ],
   "source": [
    "# Ausgabe des Docstring mittels help Funktion\n",
    "help(entscheidung)"
   ]
  },
  {
   "cell_type": "markdown",
   "metadata": {
    "colab_type": "text",
    "id": "KXEsbrLu6aUD"
   },
   "source": [
    "## Stufenfunktion"
   ]
  },
  {
   "cell_type": "markdown",
   "metadata": {
    "colab_type": "text",
    "id": "Tu4TCRME6aUD"
   },
   "source": [
    "#### Listing 3.2"
   ]
  },
  {
   "cell_type": "code",
   "execution_count": 4,
   "metadata": {
    "colab": {
     "base_uri": "https://localhost:8080/",
     "height": 295
    },
    "colab_type": "code",
    "executionInfo": {
     "elapsed": 1922,
     "status": "ok",
     "timestamp": 1575463032854,
     "user": {
      "displayName": "Joachim Steinwendner",
      "photoUrl": "https://lh3.googleusercontent.com/a-/AAuE7mAtf_dkZ7pwye0jQ6j3OB7lBSuKn30mc5n8I5BLVA=s64",
      "userId": "14793446130159111629"
     },
     "user_tz": -60
    },
    "id": "FgT3B_qy6aUE",
    "outputId": "46770f6f-a63c-424a-8366-da4cf2d32d2f"
   },
   "outputs": [
    {
     "data": {
      "image/png": "[encoded data removed]",
      "text/plain": [
       "<Figure size 432x288 with 1 Axes>"
      ]
     },
     "metadata": {
      "needs_background": "light"
     },
     "output_type": "display_data"
    }
   ],
   "source": [
    "# Import der Module für Plots\n",
    "import matplotlib.pyplot as plt\n",
    "# Ganz wichtig, sonst wird der Plot nicht angezeigt\n",
    "%matplotlib inline\n",
    "\n",
    "def entscheidung( summe ):\n",
    "    \"\"\" Berechnung der Entscheidung zum Wert summe\n",
    "    Input:  summe\n",
    "    Output: 1, falls summe >= 1, \n",
    "            0 sonst \n",
    "    \"\"\"\n",
    "    if summe >= 1: \n",
    "        return 1\n",
    "    else:\n",
    "        return 0\n",
    "#------------------------------\n",
    "# x Werte des Graphen\n",
    "x = [-1,0,0.999,1,2]\n",
    "# y Werte mit der Funktion entscheidung berechnen und mit Hilfe \n",
    "# einer List Comprehension eine neue Liste erzeugen (siehe Anhang A)  \n",
    "y = [ entscheidung(i) for i in x ]\n",
    "# Erzeugen des Graphen, mit einer orangen Stufe und Bezeichnung step\n",
    "plt.step(x, y, color='Orange', label='step')\n",
    "\n",
    "# Die Achsen setzen\n",
    "plt.grid(True)\n",
    "# Die horizontale und vertikale 0 Achse etwas dicker in schwarz zeichnen\n",
    "plt.axhline(0, color='black', lw=1)\n",
    "plt.axvline(0, color='black', lw=1)\n",
    "\n",
    "# Achsenbeschriftung und Titel\n",
    "plt.xlabel('Summe')\n",
    "plt.ylabel('Ergebnis')\n",
    "plt.title('Stufenfunktion')\n",
    "\n",
    "# Legenden Platzierung festlegen\n",
    "plt.legend(loc='center right')\n",
    "\n",
    "# Den Graph anzeigen\n",
    "plt.show()"
   ]
  },
  {
   "cell_type": "markdown",
   "metadata": {
    "colab_type": "text",
    "id": "k7GEbgma6aUH"
   },
   "source": [
    "## Aufgabe: Planung mit Scatter-Plot"
   ]
  },
  {
   "cell_type": "markdown",
   "metadata": {
    "colab_type": "text",
    "id": "uJ3i3aQd6aUH"
   },
   "source": [
    "#### Listing 3.3"
   ]
  },
  {
   "cell_type": "code",
   "execution_count": 5,
   "metadata": {
    "colab": {
     "base_uri": "https://localhost:8080/",
     "height": 297
    },
    "colab_type": "code",
    "executionInfo": {
     "elapsed": 1500,
     "status": "ok",
     "timestamp": 1575463039695,
     "user": {
      "displayName": "Joachim Steinwendner",
      "photoUrl": "https://lh3.googleusercontent.com/a-/AAuE7mAtf_dkZ7pwye0jQ6j3OB7lBSuKn30mc5n8I5BLVA=s64",
      "userId": "14793446130159111629"
     },
     "user_tz": -60
    },
    "id": "AKodb6uW6aUI",
    "outputId": "2f6af6fd-5fc2-4529-a420-4aedc6acd77a"
   },
   "outputs": [
    {
     "name": "stdout",
     "output_type": "stream",
     "text": [
      "Der Vektor x1:  [0 0 1 1]\n"
     ]
    },
    {
     "data": {
      "image/png": "[encoded data removed]",
      "text/plain": [
       "<Figure size 432x288 with 1 Axes>"
      ]
     },
     "metadata": {
      "needs_background": "light"
     },
     "output_type": "display_data"
    }
   ],
   "source": [
    "# Mathematik\n",
    "import numpy as np\n",
    "# Import der pyplot Funktionen\n",
    "import matplotlib.pyplot as plt\n",
    "# Ganz wichtig, sonst wird der Plot nicht angezeigt\n",
    "%matplotlib inline\n",
    "\n",
    "# Die Funktion array wandelt eine Python Liste in ein numpy Array um\n",
    "# Die x1 = x Koordinaten\n",
    "x1    = np.array([0, 0, 1, 1]) \n",
    "# Die x2 = y Koordinaten\n",
    "x2    = np.array([0, 1, 0, 1]) \n",
    "# Die Farben für die Punkte\n",
    "color = np.array(['black', 'black', 'red', 'black']) \n",
    "# Die Punktgröße für jeden Punkt\n",
    "size  = np.array([100, 100, 500, 100]) \n",
    "\n",
    "# Den Vektor x1 mit allen x1 Koordinaten ausgeben\n",
    "print('Der Vektor x1: ', x1)\n",
    "\n",
    "# Die Achsen setzen\n",
    "plt.grid(True)\n",
    "\n",
    "# Den plot zeichnen für die x1 und x2 Koordinaten, Farbe und Größe\n",
    "plt.scatter(x1, x2, c=color, s=size)\n",
    "\n",
    "# Die Achsen setzen\n",
    "plt.xlabel('x1')\n",
    "plt.ylabel('x2')\n",
    "\n",
    "# Die Achseneinteilungen setzen\n",
    "plt.xticks([0.0,1.0])\n",
    "plt.yticks([0.0,1.0])\n",
    "\n",
    "# Endlich die figure ausgeben\n",
    "plt.show()"
   ]
  },
  {
   "cell_type": "markdown",
   "metadata": {
    "colab_type": "text",
    "id": "lc5VxM-m6aUK"
   },
   "source": [
    "## Aufgabe: Iris Datensatz als Scatter Plot "
   ]
  },
  {
   "cell_type": "markdown",
   "metadata": {
    "colab_type": "text",
    "id": "sVt9Fg636aUL"
   },
   "source": [
    "#### Listing 3.4"
   ]
  },
  {
   "cell_type": "code",
   "execution_count": 6,
   "metadata": {
    "colab": {
     "base_uri": "https://localhost:8080/",
     "height": 238
    },
    "colab_type": "code",
    "executionInfo": {
     "elapsed": 1305,
     "status": "error",
     "timestamp": 1575463047108,
     "user": {
      "displayName": "Joachim Steinwendner",
      "photoUrl": "https://lh3.googleusercontent.com/a-/AAuE7mAtf_dkZ7pwye0jQ6j3OB7lBSuKn30mc5n8I5BLVA=s64",
      "userId": "14793446130159111629"
     },
     "user_tz": -60
    },
    "id": "SJfGPEvk6aUL",
    "outputId": "f372ca96-6bad-446c-d879-c91a86832ba3"
   },
   "outputs": [
    {
     "data": {
      "image/png": "[encoded data removed]",
      "text/plain": [
       "<Figure size 432x288 with 1 Axes>"
      ]
     },
     "metadata": {},
     "output_type": "display_data"
    }
   ],
   "source": [
    "# Mathematik\n",
    "import numpy as np\n",
    "# Import der pyplot Funktionen\n",
    "import matplotlib.pyplot as plt\n",
    "# Ganz wichtig, sonst wird der Plot nicht angezeigt\n",
    "%matplotlib inline\n",
    "\n",
    "# x1 sind die Koordinaten der x-Achse, x2 die der y-Achse\n",
    "x1    = []\n",
    "x2    = []\n",
    "# Farben für die Datenpunkte\n",
    "colors = []\n",
    "# Mapping der Schwertlilien zu Farben mit \n",
    "# einem python dictionary \n",
    "iris_colors = { 'Iris-setosa' : 'red',\n",
    "                'Iris-versicolor' : 'green',\n",
    "                'Iris-virginica' : 'blue'\n",
    "              }\n",
    "# File Inhalt einlesen\n",
    "# File Handle fobj wird automatisch geschlossen\n",
    "with open(\"iris.csv\", \"r\") as fobj:\n",
    "    # Den Datensatz zeilenweise verarbeiten\n",
    "    for line in fobj:\n",
    "        # Split in einzelne Worte        \n",
    "        words = line.rstrip().split(\",\")\n",
    "        # Leerzeilen auslassen  \n",
    "        if len(words) != 5:\n",
    "            continue\n",
    "        # SepalLength    \n",
    "        x1.append(float(words[0]))\n",
    "        # SepalWidth    \n",
    "        x2.append(float(words[1]))\n",
    "        # Farbe    \n",
    "        colors.append(iris_colors[words[4]])\n",
    "# Gitter im scatter plot zeichnen\n",
    "plt.style.use('seaborn-whitegrid')  \n",
    "# Achsenbeschriftung und Titel\n",
    "plt.xlabel('Sepal Length')\n",
    "plt.ylabel('Sepal Width')\n",
    "plt.title('Scatter Plot')\n",
    "# Den Plot ausgeben\n",
    "plt.scatter(np.array(x1), np.array(x2), color=colors )\n",
    "# Plot anzeigen\n",
    "plt.show()"
   ]
  },
  {
   "cell_type": "markdown",
   "metadata": {
    "colab_type": "text",
    "id": "ATc0GtPQ6aUO"
   },
   "source": [
    " ## Aufgabe: Skalarprodukt mit NumPy"
   ]
  },
  {
   "cell_type": "markdown",
   "metadata": {
    "colab_type": "text",
    "id": "c0HxGLrw6aUP"
   },
   "source": [
    "#### Listing 3.5"
   ]
  },
  {
   "cell_type": "code",
   "execution_count": 7,
   "metadata": {
    "colab": {},
    "colab_type": "code",
    "id": "j4Z6H7fx6aUP",
    "outputId": "cb298cfa-f251-4a35-8a4f-05118595dbb6"
   },
   "outputs": [
    {
     "name": "stdout",
     "output_type": "stream",
     "text": [
      "x = [0 1]\n",
      "w = [0.5 0.7]\n",
      "w*x = [0.  0.7]\n",
      "np.dot(w,x) = 0.7\n",
      "w.dot(x) = 0.7\n"
     ]
    }
   ],
   "source": [
    "# Die Multiplikation von Vektoren mit numpy\n",
    "#  Dot Product, Skalarprodukt, Inneres Produkt, \n",
    "#   macht aus zwei Sequenzen von Zahlen eine Zahl (algebraisch)\n",
    "#  Es ist der Cosinus des Winkels zwischen zwei Vektoren (geometrisch)\n",
    "#   multipliziert mit deren Längen\n",
    "# Mathematik\n",
    "import numpy as np\n",
    "\n",
    "# numpy array erzeugen\n",
    "x = np.array([0,1])\n",
    "# numpy array erzeugen\n",
    "w = np.array([0.5,0.7])\n",
    "\n",
    "# Vektor x ausgeben\n",
    "print(\"x =\", x)\n",
    "# Vektor w ausgeben\n",
    "print(\"w =\", w)\n",
    "\n",
    "# numpy arrays sind keine Matrizen und \n",
    "# die Operatoren *, +, -, / funktionieren Element für Element\n",
    "print(\"w*x =\",w*x)\n",
    "\n",
    "# Inneres Produkt. Man muss den Vektor nicht transponieren, \n",
    "# das erledigt numpy für uns\n",
    "print(\"np.dot(w,x) =\", np.dot(w,x))\n",
    "\n",
    "# Alternative Syntax zum Dot Product\n",
    "print(\"w.dot(x) =\", w.dot(x)) "
   ]
  },
  {
   "cell_type": "markdown",
   "metadata": {
    "colab_type": "text",
    "id": "V9zsLAgC6aUS"
   },
   "source": [
    "## Perceptron Forward Path"
   ]
  },
  {
   "cell_type": "markdown",
   "metadata": {
    "colab_type": "text",
    "id": "OuBV7w716aUS"
   },
   "source": [
    "#### Listing 3.6"
   ]
  },
  {
   "cell_type": "code",
   "execution_count": 8,
   "metadata": {
    "colab": {},
    "colab_type": "code",
    "id": "BnSQgZ7V6aUT",
    "outputId": "f31c0fc1-2f62-4c33-8841-827355621c81"
   },
   "outputs": [
    {
     "name": "stdout",
     "output_type": "stream",
     "text": [
      "Fr. Karotte = 0, Hr. Lauch = 0, gewünschtes Ergebnis = 0, errechnetes Ergebnis = 0, Fehler = 0\n",
      "Fr. Karotte = 0, Hr. Lauch = 1, gewünschtes Ergebnis = 1, errechnetes Ergebnis = 1, Fehler = 0\n",
      "Fr. Karotte = 1, Hr. Lauch = 0, gewünschtes Ergebnis = 1, errechnetes Ergebnis = 1, Fehler = 0\n",
      "Fr. Karotte = 1, Hr. Lauch = 1, gewünschtes Ergebnis = 1, errechnetes Ergebnis = 1, Fehler = 0\n",
      "Gesamtfehler = 0\n"
     ]
    }
   ],
   "source": [
    "# Mathematik\n",
    "import numpy as np\n",
    "# Plot\n",
    "import matplotlib.pyplot as plt\n",
    "\n",
    "# 3 dimensionaler Input = Bias Neuron, Fr. Karotte, Hr. Lauch  \n",
    "# 4 Inputvektoren\n",
    "X = np.array([\n",
    "    [1,0,0],\n",
    "    [1,0,1],\n",
    "    [1,1,0],\n",
    "    [1,1,1]])\n",
    "# Die 4 gewünschten Ergebniswerte\n",
    "y = np.array([0,1,1,1])\n",
    "\n",
    "# Heaviside Funktion\n",
    "def heaviside( summe ):\n",
    "    \"\"\" Berechnung der Entscheidung zum Wert summe\n",
    "    Input:  summe\n",
    "    Output: 1, falls summe >= 0, \n",
    "            0 sonst \n",
    "    \"\"\"\n",
    "    if summe >= 0: \n",
    "        return 1\n",
    "    else:\n",
    "        return 0\n",
    "    \n",
    "# Perceptron Berechnung (Forward Path)\n",
    "def perceptron_eval(X,y):\n",
    "    \"\"\" Perceptron Berechnung \n",
    "    Input:  X, Inputvektor\n",
    "            y, der gewünschte Output\n",
    "    Output: Der Gesamtfehler, d.h. Summe aus dem Betrag der Differenz \n",
    "            von errechnetem und gewünschtem Output  \n",
    "    \"\"\"\n",
    "    # Der Gesamtfehler\n",
    "    gesamtfehler = 0;\n",
    "    # Die Gewichte so wählen, dass das OR Problem gelöst werden kann\n",
    "    w = np.array([-1,1,1])    \n",
    "    # Index i und Element x Ermittlung vom Array X       \n",
    "    for i, x in enumerate(X):\n",
    "        # x = Zeile für Zeile verwenden   \n",
    "        # Inneres Produkt zwischen x und w\n",
    "        summe = np.dot(w,x)\n",
    "        ergebnis = heaviside(summe)\n",
    "        # Fehler\n",
    "        fehler = np.abs(ergebnis - y[i])\n",
    "        # Gesamtfehler\n",
    "        gesamtfehler += fehler\n",
    "        # Ausgabe\n",
    "        print(\"Fr. Karotte = {}, Hr. Lauch = {}, gewünschtes Ergebnis = {}, errechnetes Ergebnis = {}, Fehler = {}\".\n",
    "              format(x[1], x[2], y[i], ergebnis, fehler))\n",
    "    # Gesamtfehler pro Epoche über ganzen Trainingsdatensatz    \n",
    "    return gesamtfehler\n",
    "#------------------------------\n",
    "# Core Function zum Auswerten des Inputs\n",
    "gesamtfehler = perceptron_eval(X,y)\n",
    "print(\"Gesamtfehler = %1d\" % (gesamtfehler))"
   ]
  },
  {
   "cell_type": "markdown",
   "metadata": {
    "colab_type": "text",
    "id": "Kxu_P8Km6aUV"
   },
   "source": [
    "## Aufgabe: Roboterschutz"
   ]
  },
  {
   "cell_type": "markdown",
   "metadata": {
    "colab_type": "text",
    "id": "jIqa4Ot96aUW"
   },
   "source": [
    "#### Listing 3.7"
   ]
  },
  {
   "cell_type": "code",
   "execution_count": 9,
   "metadata": {
    "colab": {},
    "colab_type": "code",
    "id": "qhnWga9J6aUX",
    "outputId": "051ad360-83c1-488d-fcb0-021f8f5cb0ab"
   },
   "outputs": [
    {
     "name": "stdout",
     "output_type": "stream",
     "text": [
      "Sensor L = 0, Sensor R = 0, gewünschtes Ergebnis = 0, errechnetes Ergebnis = 0, Fehler = 0\n",
      "Sensor L = 0, Sensor R = 1, gewünschtes Ergebnis = 0, errechnetes Ergebnis = 0, Fehler = 0\n",
      "Sensor L = 1, Sensor R = 0, gewünschtes Ergebnis = 0, errechnetes Ergebnis = 0, Fehler = 0\n",
      "Sensor L = 1, Sensor R = 1, gewünschtes Ergebnis = 1, errechnetes Ergebnis = 1, Fehler = 0\n",
      "Gesamtfehler = 0\n"
     ]
    }
   ],
   "source": [
    "# Mathematik\n",
    "import numpy as np\n",
    "# Plot\n",
    "import matplotlib.pyplot as plt\n",
    "# 3 dimensionaler Input = Bias Neuron, Sensor links, Sensor rechts  \n",
    "# 4 Inputvektoren\n",
    "X = np.array([\n",
    "    [1,0,0],\n",
    "    [1,0,1],\n",
    "    [1,1,0],\n",
    "    [1,1,1]])\n",
    "# Die 4 gewünschten Ergebniswerte\n",
    "y = np.array([0,0,0,1])\n",
    "# Heaviside Funktion\n",
    "def heaviside( summe ):\n",
    "    \"\"\"Berechnung der Entscheidung zum Wert summe\n",
    "        Input:  summe\n",
    "        Output: 1, falls summe >= 0, \n",
    "                0 sonst \n",
    "    \"\"\"\n",
    "    if summe >= 0: \n",
    "        return 1\n",
    "    else:\n",
    "        return 0\n",
    "# Perceptron Berechnung (Forward Path)\n",
    "def perceptron_eval(X,y):\n",
    "    \"\"\" Perceptron Berechnung \n",
    "    Input:  X, Inputvektor\n",
    "            y, der gewünschte Output\n",
    "    Output: Der Gesamtfehler, d.h. Summe aus dem Betrag der Differenz \n",
    "            von errechnetem und gewünschtem Output  \n",
    "    \"\"\"    \n",
    "    # Der Gesamtfehler\n",
    "    gesamtfehler = 0;\n",
    "    # Die Gewichte so wählen, dass das Roboter Problem gelöst werden kann\n",
    "    w = np.array([-2,1,1])    \n",
    "    # Index i und Element x Ermittlung vom Array X       \n",
    "    for i, x in enumerate(X):\n",
    "        # x = Zeile für Zeile verwenden   \n",
    "        # Inneres Produkt zwischen x und w\n",
    "        summe = np.dot(w,x)\n",
    "        ergebnis = heaviside(summe)\n",
    "        # Fehler\n",
    "        fehler = np.abs(ergebnis - y[i])\n",
    "        # Gesamtfehler\n",
    "        gesamtfehler += fehler\n",
    "        # Ausgabe\n",
    "        print(\"Sensor L = {}, Sensor R = {}, gewünschtes Ergebnis = {}, errechnetes Ergebnis = {}, Fehler = {}\".\n",
    "              format(x[1], x[2], y[i], ergebnis, fehler))\n",
    "    # Gesamtfehler pro Epoche über ganzen Trainingsdatensatz    \n",
    "    return gesamtfehler\n",
    "#------------------------------\n",
    "# Core Function zum Auswerten des Inputs\n",
    "gesamtfehler = perceptron_eval(X,y)\n",
    "print(\"Gesamtfehler = %1d\" % (gesamtfehler))"
   ]
  },
  {
   "cell_type": "code",
   "execution_count": null,
   "metadata": {},
   "outputs": [],
   "source": []
  }
 ],
 "metadata": {
  "colab": {
   "name": "Kapitel_03.ipynb",
   "provenance": []
  },
  "kernelspec": {
   "display_name": "Python 3",
   "language": "python",
   "name": "python3"
  },
  "language_info": {
   "codemirror_mode": {
    "name": "ipython",
    "version": 3
   },
   "file_extension": ".py",
   "mimetype": "text/x-python",
   "name": "python",
   "nbconvert_exporter": "python",
   "pygments_lexer": "ipython3",
   "version": "3.6.8"
  }
 },
 "nbformat": 4,
 "nbformat_minor": 1
}
